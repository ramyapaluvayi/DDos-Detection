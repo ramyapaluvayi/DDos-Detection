{
  "nbformat": 4,
  "nbformat_minor": 0,
  "metadata": {
    "colab": {
      "provenance": [],
      "mount_file_id": "1zhZVDvHWtO_QZuN4jRVEeEYejsNSSkuY",
      "authorship_tag": "ABX9TyM8/pv+NNSgkPBoEI/6MvyM",
      "include_colab_link": true
    },
    "kernelspec": {
      "name": "python3",
      "display_name": "Python 3"
    },
    "language_info": {
      "name": "python"
    }
  },
  "cells": [
    {
      "cell_type": "markdown",
      "metadata": {
        "id": "view-in-github",
        "colab_type": "text"
      },
      "source": [
        "<a href=\"https://colab.research.google.com/github/ushasri999/Multiclass-classification-of-DDoS-attacks-in-IoT-network-using-hybrid-feature-selection-algorithm/blob/main/KNN_12.ipynb\" target=\"_parent\"><img src=\"https://colab.research.google.com/assets/colab-badge.svg\" alt=\"Open In Colab\"/></a>"
      ]
    },
    {
      "cell_type": "markdown",
      "source": [
        "**12 classe, 15 features**"
      ],
      "metadata": {
        "id": "sewJf-YKf7c9"
      }
    },
    {
      "cell_type": "code",
      "execution_count": null,
      "metadata": {
        "colab": {
          "base_uri": "https://localhost:8080/"
        },
        "id": "IF5lmNWAcBQV",
        "outputId": "16455b3a-e754-4151-983a-487973a797c6"
      },
      "outputs": [
        {
          "output_type": "stream",
          "name": "stdout",
          "text": [
            "Features shape: (173777, 46)\n",
            "Target shape: (173777,)\n"
          ]
        }
      ],
      "source": [
        "import pandas as pd\n",
        "import numpy as np\n",
        "from sklearn.neighbors import KNeighborsClassifier\n",
        "from sklearn.ensemble import RandomForestClassifier\n",
        "from sklearn.model_selection import train_test_split\n",
        "from sklearn.metrics import classification_report, accuracy_score, precision_score, recall_score, f1_score, confusion_matrix\n",
        "from sklearn.feature_selection import SelectKBest, f_classif, RFE\n",
        "\n",
        "# Step 1: Load the filtered dataset\n",
        "df = pd.read_csv('/content/drive/MyDrive/major project/data.csv')  # Load your actual dataset here\n",
        "df_ddos = df[df['label'].str.contains('DDoS', case=False, na=False)]  # Filter DDoS labels\n",
        "\n",
        "# Step 2: Separate features and target\n",
        "X = df_ddos.drop(\"label\", axis=1, errors='ignore')  # Avoid crashing if 'label' does not exist\n",
        "y = df_ddos[\"label\"] if 'label' in df_ddos.columns else pd.Series([])  # Handle case where label is missing\n",
        "\n",
        "# Check if X and y are valid\n",
        "print(\"Features shape:\", X.shape)  # Should not be empty\n",
        "print(\"Target shape:\", y.shape)  # Should not be empty\n",
        "\n",
        "# Step 3: Handle categorical and missing data\n",
        "X = pd.get_dummies(X, drop_first=True)  # One-hot encode categorical features\n",
        "X.fillna(X.mean(), inplace=True)  # Fill missing values with the mean\n"
      ]
    },
    {
      "cell_type": "code",
      "source": [
        "# Step 4: Hybrid Feature Selection\n",
        "filter_selector = SelectKBest(score_func=f_classif, k=8)  # Select only top 5 features using filter method\n",
        "X_new_filter = filter_selector.fit_transform(X, y)\n",
        "filter_scores = filter_selector.scores_\n",
        "\n",
        "# Wrapper Method: Recursive Feature Elimination (RFE) with Random Forest\n",
        "rfe_selector = RFE(estimator=RandomForestClassifier(), n_features_to_select=7)  # Select 5 features\n",
        "X_new_wrapper = rfe_selector.fit_transform(X, y)\n",
        "rfe_ranking = rfe_selector.ranking_\n",
        "\n",
        "# Combine results: Select top 5 features from both methods\n",
        "top_features_filter = np.argsort(filter_scores)[-8:]  # Top 5 features from filter method\n",
        "print('top_features_filter ', top_features_filter)\n",
        "top_features_rfe = np.where(rfe_ranking == 1)[0]  # Features selected by RFE\n",
        "print('top_features_rfe ', top_features_rfe)\n",
        "top_features_combined = list(set(top_features_filter) | set(top_features_rfe))  # Combine both selections\n",
        "print('top_features_combined ', top_features_combined)\n",
        "\n",
        "# Step 5: Select top features from the dataset\n",
        "X_selected = X.iloc[:, top_features_combined]\n",
        "\n",
        "# Print the names of the selected features\n",
        "print(\"Selected Features:\", X_selected.columns.tolist())\n"
      ],
      "metadata": {
        "colab": {
          "base_uri": "https://localhost:8080/"
        },
        "id": "vp7YjgCCdCjp",
        "outputId": "5bdaf100-3aed-4361-fc33-f46bb8183fa0"
      },
      "execution_count": null,
      "outputs": [
        {
          "output_type": "stream",
          "name": "stderr",
          "text": [
            "/usr/local/lib/python3.10/dist-packages/sklearn/feature_selection/_univariate_selection.py:112: UserWarning: Features [12 13 22 23 24 25 28] are constant.\n",
            "  warnings.warn(\"Features %s are constant.\" % constant_features_idx, UserWarning)\n",
            "/usr/local/lib/python3.10/dist-packages/sklearn/feature_selection/_univariate_selection.py:113: RuntimeWarning: invalid value encountered in divide\n",
            "  f = msb / msw\n"
          ]
        },
        {
          "output_type": "stream",
          "name": "stdout",
          "text": [
            "top_features_filter  [ 7 28 25 24 23 13 12 22]\n",
            "top_features_rfe  [ 7 15 17 34 38 39 41]\n",
            "top_features_combined  [34, 38, 7, 39, 41, 12, 13, 15, 17, 22, 23, 24, 25, 28]\n",
            "Selected Features: ['Min', 'Tot size', 'fin_flag_number', 'IAT', 'Magnitue', 'ece_flag_number', 'cwr_flag_number', 'syn_count', 'urg_count', 'Telnet', 'SMTP', 'SSH', 'IRC', 'DHCP']\n"
          ]
        }
      ]
    },
    {
      "cell_type": "code",
      "source": [
        "\n",
        "# Step 4: Train and Test Split\n",
        "X_train, X_test, y_train, y_test = train_test_split(X_selected, y, test_size=0.3, random_state=42)\n",
        "\n",
        "# Step 5: Train K-Nearest Neighbors Classifier\n",
        "knn_model = KNeighborsClassifier(n_neighbors=5)  # You can adjust n_neighbors as needed\n",
        "knn_model.fit(X_train, y_train)\n",
        "\n",
        "# Step 6: Evaluate the model\n",
        "y_pred = knn_model.predict(X_test)\n",
        "\n",
        "# Metrics\n",
        "accuracy = accuracy_score(y_test, y_pred)\n",
        "precision = precision_score(y_test, y_pred, average='weighted')  # Weighted for imbalanced classes\n",
        "recall = recall_score(y_test, y_pred, average='weighted')  # Weighted for imbalanced classes\n",
        "f1 = f1_score(y_test, y_pred, average='weighted')  # Weighted for imbalanced classes\n",
        "\n",
        "# Print metrics\n",
        "print(\"Accuracy:\", accuracy)\n",
        "print(\"Precision:\", precision)\n",
        "print(\"Recall:\", recall)\n",
        "print(\"F1 Score:\", f1)\n",
        "print(\"Classification Report:\\n\", classification_report(y_test, y_pred))\n",
        "\n",
        "# Confusion Matrix\n",
        "conf_matrix = confusion_matrix(y_test, y_pred)\n",
        "print(\"Confusion Matrix:\\n\", conf_matrix)"
      ],
      "metadata": {
        "colab": {
          "base_uri": "https://localhost:8080/"
        },
        "id": "10OklKuBc9S3",
        "outputId": "e2de11a4-953b-46a8-b20b-f394b12ca727"
      },
      "execution_count": null,
      "outputs": [
        {
          "output_type": "stream",
          "name": "stdout",
          "text": [
            "Accuracy: 0.999156021022749\n",
            "Precision: 0.9991626666576976\n",
            "Recall: 0.999156021022749\n",
            "F1 Score: 0.9991575349510352\n",
            "Classification Report:\n",
            "                          precision    recall  f1-score   support\n",
            "\n",
            " DDoS-ACK_Fragmentation       0.97      0.99      0.98       441\n",
            "        DDoS-HTTP_Flood       1.00      1.00      1.00        48\n",
            "        DDoS-ICMP_Flood       1.00      1.00      1.00     10925\n",
            "DDoS-ICMP_Fragmentation       1.00      0.99      1.00       726\n",
            "      DDoS-PSHACK_Flood       1.00      1.00      1.00      6409\n",
            "       DDoS-RSTFINFlood       1.00      1.00      1.00      6131\n",
            "         DDoS-SYN_Flood       1.00      1.00      1.00      6173\n",
            "         DDoS-SlowLoris       1.00      1.00      1.00        21\n",
            "DDoS-SynonymousIP_Flood       1.00      1.00      1.00      5436\n",
            "         DDoS-TCP_Flood       1.00      1.00      1.00      6982\n",
            "         DDoS-UDP_Flood       1.00      1.00      1.00      8369\n",
            " DDoS-UDP_Fragmentation       0.99      0.98      0.98       473\n",
            "\n",
            "               accuracy                           1.00     52134\n",
            "              macro avg       1.00      1.00      1.00     52134\n",
            "           weighted avg       1.00      1.00      1.00     52134\n",
            "\n",
            "Confusion Matrix:\n",
            " [[  438     0     0     0     1     0     0     0     1     0     0     1]\n",
            " [    0    48     0     0     0     0     0     0     0     0     0     0]\n",
            " [    2     0 10919     0     2     0     0     0     0     0     0     2]\n",
            " [    2     0     1   722     0     0     0     0     0     1     0     0]\n",
            " [    4     0     0     0  6403     0     0     0     1     0     0     1]\n",
            " [    1     0     0     0     0  6130     0     0     0     0     0     0]\n",
            " [    0     0     1     0     2     0  6169     0     0     0     0     1]\n",
            " [    0     0     0     0     0     0     0    21     0     0     0     0]\n",
            " [    0     0     0     0     2     0     0     0  5434     0     0     0]\n",
            " [    1     0     0     0     0     0     0     0     0  6981     0     0]\n",
            " [    2     0     1     1     1     1     0     0     0     1  8362     0]\n",
            " [    3     0     1     2     2     1     0     0     1     0     0   463]]\n"
          ]
        }
      ]
    },
    {
      "cell_type": "markdown",
      "source": [
        "**12 classe, 10 features**"
      ],
      "metadata": {
        "id": "oD_bjldagB_x"
      }
    },
    {
      "cell_type": "code",
      "source": [
        "# Step 4: Hybrid Feature Selection\n",
        "filter_selector = SelectKBest(score_func=f_classif, k=5)  # Select only top 5 features using filter method\n",
        "X_new_filter = filter_selector.fit_transform(X, y)\n",
        "filter_scores = filter_selector.scores_\n",
        "\n",
        "# Wrapper Method: Recursive Feature Elimination (RFE) with Random Forest\n",
        "rfe_selector = RFE(estimator=RandomForestClassifier(), n_features_to_select=5)  # Select 5 features\n",
        "X_new_wrapper = rfe_selector.fit_transform(X, y)\n",
        "rfe_ranking = rfe_selector.ranking_\n",
        "\n",
        "# Combine results: Select top 5 features from both methods\n",
        "top_features_filter = np.argsort(filter_scores)[-5:]  # Top 5 features from filter method\n",
        "print('top_features_filter ', top_features_filter)\n",
        "top_features_rfe = np.where(rfe_ranking == 1)[0]  # Features selected by RFE\n",
        "print('top_features_rfe ', top_features_rfe)\n",
        "top_features_combined = list(set(top_features_filter) | set(top_features_rfe))  # Combine both selections\n",
        "print('top_features_combined ', top_features_combined)\n",
        "\n",
        "# Step 5: Select top features from the dataset\n",
        "X_selected = X.iloc[:, top_features_combined]\n",
        "\n",
        "# Print the names of the selected features\n",
        "print(\"Selected Features:\", X_selected.columns.tolist())\n"
      ],
      "metadata": {
        "colab": {
          "base_uri": "https://localhost:8080/"
        },
        "id": "1qr68YvOe0g0",
        "outputId": "8bebfce8-419e-4f72-9e7f-f76b95b9c51b"
      },
      "execution_count": null,
      "outputs": [
        {
          "output_type": "stream",
          "name": "stderr",
          "text": [
            "/usr/local/lib/python3.10/dist-packages/sklearn/feature_selection/_univariate_selection.py:112: UserWarning: Features [12 13 22 23 24 25 28] are constant.\n",
            "  warnings.warn(\"Features %s are constant.\" % constant_features_idx, UserWarning)\n",
            "/usr/local/lib/python3.10/dist-packages/sklearn/feature_selection/_univariate_selection.py:113: RuntimeWarning: invalid value encountered in divide\n",
            "  f = msb / msw\n"
          ]
        },
        {
          "output_type": "stream",
          "name": "stdout",
          "text": [
            "top_features_filter  [24 23 13 12 22]\n",
            "top_features_rfe  [ 7 15 34 39 41]\n",
            "top_features_combined  [34, 39, 7, 41, 12, 13, 15, 22, 23, 24]\n",
            "Selected Features: ['Min', 'IAT', 'fin_flag_number', 'Magnitue', 'ece_flag_number', 'cwr_flag_number', 'syn_count', 'Telnet', 'SMTP', 'SSH']\n"
          ]
        }
      ]
    },
    {
      "cell_type": "code",
      "source": [
        "\n",
        "# Step 4: Train and Test Split\n",
        "X_train, X_test, y_train, y_test = train_test_split(X_selected, y, test_size=0.3, random_state=42)\n",
        "\n",
        "# Step 5: Train K-Nearest Neighbors Classifier\n",
        "knn_model = KNeighborsClassifier(n_neighbors=5)  # You can adjust n_neighbors as needed\n",
        "knn_model.fit(X_train, y_train)\n",
        "\n",
        "# Step 6: Evaluate the model\n",
        "y_pred = knn_model.predict(X_test)\n",
        "\n",
        "# Metrics\n",
        "accuracy = accuracy_score(y_test, y_pred)\n",
        "precision = precision_score(y_test, y_pred, average='weighted')  # Weighted for imbalanced classes\n",
        "recall = recall_score(y_test, y_pred, average='weighted')  # Weighted for imbalanced classes\n",
        "f1 = f1_score(y_test, y_pred, average='weighted')  # Weighted for imbalanced classes\n",
        "\n",
        "# Print metrics\n",
        "print(\"Accuracy:\", accuracy)\n",
        "print(\"Precision:\", precision)\n",
        "print(\"Recall:\", recall)\n",
        "print(\"F1 Score:\", f1)\n",
        "print(\"Classification Report:\\n\", classification_report(y_test, y_pred))\n",
        "\n",
        "# Confusion Matrix\n",
        "conf_matrix = confusion_matrix(y_test, y_pred)\n",
        "print(\"Confusion Matrix:\\n\", conf_matrix)"
      ],
      "metadata": {
        "colab": {
          "base_uri": "https://localhost:8080/"
        },
        "id": "ONncQnI6gJBl",
        "outputId": "0791a218-fdd8-4ee5-834f-641251ea2d0c"
      },
      "execution_count": null,
      "outputs": [
        {
          "output_type": "stream",
          "name": "stdout",
          "text": [
            "Accuracy: 0.999136839682357\n",
            "Precision: 0.999142483889454\n",
            "Recall: 0.999136839682357\n",
            "F1 Score: 0.999138073238816\n",
            "Classification Report:\n",
            "                          precision    recall  f1-score   support\n",
            "\n",
            " DDoS-ACK_Fragmentation       0.97      0.99      0.98       441\n",
            "        DDoS-HTTP_Flood       1.00      1.00      1.00        48\n",
            "        DDoS-ICMP_Flood       1.00      1.00      1.00     10925\n",
            "DDoS-ICMP_Fragmentation       1.00      0.99      1.00       726\n",
            "      DDoS-PSHACK_Flood       1.00      1.00      1.00      6409\n",
            "       DDoS-RSTFINFlood       1.00      1.00      1.00      6131\n",
            "         DDoS-SYN_Flood       1.00      1.00      1.00      6173\n",
            "         DDoS-SlowLoris       1.00      1.00      1.00        21\n",
            "DDoS-SynonymousIP_Flood       1.00      1.00      1.00      5436\n",
            "         DDoS-TCP_Flood       1.00      1.00      1.00      6982\n",
            "         DDoS-UDP_Flood       1.00      1.00      1.00      8369\n",
            " DDoS-UDP_Fragmentation       0.99      0.98      0.98       473\n",
            "\n",
            "               accuracy                           1.00     52134\n",
            "              macro avg       1.00      1.00      1.00     52134\n",
            "           weighted avg       1.00      1.00      1.00     52134\n",
            "\n",
            "Confusion Matrix:\n",
            " [[  438     0     0     0     1     0     0     0     1     0     0     1]\n",
            " [    0    48     0     0     0     0     0     0     0     0     0     0]\n",
            " [    2     0 10919     0     2     0     0     0     0     0     0     2]\n",
            " [    1     0     1   722     1     0     0     0     0     1     0     0]\n",
            " [    4     0     0     0  6403     0     0     0     1     0     0     1]\n",
            " [    1     0     0     0     0  6130     0     0     0     0     0     0]\n",
            " [    0     0     1     0     2     0  6169     0     0     0     0     1]\n",
            " [    0     0     0     0     0     0     0    21     0     0     0     0]\n",
            " [    0     0     0     0     3     0     0     0  5433     0     0     0]\n",
            " [    1     0     0     0     0     0     0     0     0  6981     0     0]\n",
            " [    2     0     1     1     1     1     0     0     0     1  8362     0]\n",
            " [    3     0     1     2     2     1     0     0     1     0     0   463]]\n"
          ]
        }
      ]
    },
    {
      "cell_type": "markdown",
      "source": [
        "**12 classe, 5 features**"
      ],
      "metadata": {
        "id": "PChG5AYpgOHz"
      }
    },
    {
      "cell_type": "code",
      "source": [
        "# Step 4: Hybrid Feature Selection\n",
        "filter_selector = SelectKBest(score_func=f_classif, k=3)  # Select only top 5 features using filter method\n",
        "X_new_filter = filter_selector.fit_transform(X, y)\n",
        "filter_scores = filter_selector.scores_\n",
        "\n",
        "# Wrapper Method: Recursive Feature Elimination (RFE) with Random Forest\n",
        "rfe_selector = RFE(estimator=RandomForestClassifier(), n_features_to_select=2)  # Select 5 features\n",
        "X_new_wrapper = rfe_selector.fit_transform(X, y)\n",
        "rfe_ranking = rfe_selector.ranking_\n",
        "\n",
        "# Combine results: Select top 5 features from both methods\n",
        "top_features_filter = np.argsort(filter_scores)[-3:]  # Top 5 features from filter method\n",
        "print('top_features_filter ', top_features_filter)\n",
        "top_features_rfe = np.where(rfe_ranking == 1)[0]  # Features selected by RFE\n",
        "print('top_features_rfe ', top_features_rfe)\n",
        "top_features_combined = list(set(top_features_filter) | set(top_features_rfe))  # Combine both selections\n",
        "print('top_features_combined ', top_features_combined)\n",
        "\n",
        "# Step 5: Select top features from the dataset\n",
        "X_selected = X.iloc[:, top_features_combined]\n",
        "\n",
        "# Print the names of the selected features\n",
        "print(\"Selected Features:\", X_selected.columns.tolist())\n"
      ],
      "metadata": {
        "colab": {
          "base_uri": "https://localhost:8080/"
        },
        "id": "veEZmBvegLQy",
        "outputId": "b06ff4ad-8743-41d9-c275-9d43486c6b75"
      },
      "execution_count": null,
      "outputs": [
        {
          "output_type": "stream",
          "name": "stderr",
          "text": [
            "/usr/local/lib/python3.10/dist-packages/sklearn/feature_selection/_univariate_selection.py:112: UserWarning: Features [12 13 22 23 24 25 28] are constant.\n",
            "  warnings.warn(\"Features %s are constant.\" % constant_features_idx, UserWarning)\n",
            "/usr/local/lib/python3.10/dist-packages/sklearn/feature_selection/_univariate_selection.py:113: RuntimeWarning: invalid value encountered in divide\n",
            "  f = msb / msw\n"
          ]
        },
        {
          "output_type": "stream",
          "name": "stdout",
          "text": [
            "top_features_filter  [13 12 22]\n",
            "top_features_rfe  [34 39]\n",
            "top_features_combined  [34, 22, 39, 12, 13]\n",
            "Selected Features: ['Min', 'Telnet', 'IAT', 'ece_flag_number', 'cwr_flag_number']\n"
          ]
        }
      ]
    },
    {
      "cell_type": "code",
      "source": [
        "\n",
        "# Step 4: Train and Test Split\n",
        "X_train, X_test, y_train, y_test = train_test_split(X_selected, y, test_size=0.3, random_state=42)\n",
        "\n",
        "# Step 5: Train K-Nearest Neighbors Classifier\n",
        "knn_model = KNeighborsClassifier(n_neighbors=5)  # You can adjust n_neighbors as needed\n",
        "knn_model.fit(X_train, y_train)\n",
        "\n",
        "# Step 6: Evaluate the model\n",
        "y_pred = knn_model.predict(X_test)\n",
        "\n",
        "# Metrics\n",
        "accuracy = accuracy_score(y_test, y_pred)\n",
        "precision = precision_score(y_test, y_pred, average='weighted')  # Weighted for imbalanced classes\n",
        "recall = recall_score(y_test, y_pred, average='weighted')  # Weighted for imbalanced classes\n",
        "f1 = f1_score(y_test, y_pred, average='weighted')  # Weighted for imbalanced classes\n",
        "\n",
        "# Print metrics\n",
        "print(\"Accuracy:\", accuracy)\n",
        "print(\"Precision:\", precision)\n",
        "print(\"Recall:\", recall)\n",
        "print(\"F1 Score:\", f1)\n",
        "print(\"Classification Report:\\n\", classification_report(y_test, y_pred))\n",
        "\n",
        "# Confusion Matrix\n",
        "conf_matrix = confusion_matrix(y_test, y_pred)\n",
        "print(\"Confusion Matrix:\\n\", conf_matrix)"
      ],
      "metadata": {
        "colab": {
          "base_uri": "https://localhost:8080/"
        },
        "id": "Abyum6-ngVZO",
        "outputId": "a7df3075-48ce-4435-e135-adf6d56e4226"
      },
      "execution_count": null,
      "outputs": [
        {
          "output_type": "stream",
          "name": "stdout",
          "text": [
            "Accuracy: 0.999136839682357\n",
            "Precision: 0.9991434872427534\n",
            "Recall: 0.999136839682357\n",
            "F1 Score: 0.9991383531102277\n",
            "Classification Report:\n",
            "                          precision    recall  f1-score   support\n",
            "\n",
            " DDoS-ACK_Fragmentation       0.97      0.99      0.98       441\n",
            "        DDoS-HTTP_Flood       1.00      1.00      1.00        48\n",
            "        DDoS-ICMP_Flood       1.00      1.00      1.00     10925\n",
            "DDoS-ICMP_Fragmentation       1.00      0.99      1.00       726\n",
            "      DDoS-PSHACK_Flood       1.00      1.00      1.00      6409\n",
            "       DDoS-RSTFINFlood       1.00      1.00      1.00      6131\n",
            "         DDoS-SYN_Flood       1.00      1.00      1.00      6173\n",
            "         DDoS-SlowLoris       1.00      1.00      1.00        21\n",
            "DDoS-SynonymousIP_Flood       1.00      1.00      1.00      5436\n",
            "         DDoS-TCP_Flood       1.00      1.00      1.00      6982\n",
            "         DDoS-UDP_Flood       1.00      1.00      1.00      8369\n",
            " DDoS-UDP_Fragmentation       0.99      0.98      0.98       473\n",
            "\n",
            "               accuracy                           1.00     52134\n",
            "              macro avg       1.00      1.00      1.00     52134\n",
            "           weighted avg       1.00      1.00      1.00     52134\n",
            "\n",
            "Confusion Matrix:\n",
            " [[  438     0     0     0     1     0     0     0     1     0     0     1]\n",
            " [    0    48     0     0     0     0     0     0     0     0     0     0]\n",
            " [    2     0 10919     0     2     0     0     0     0     0     0     2]\n",
            " [    2     0     1   722     0     0     0     0     0     1     0     0]\n",
            " [    4     0     0     0  6403     0     0     0     1     0     0     1]\n",
            " [    1     0     0     0     0  6130     0     0     0     0     0     0]\n",
            " [    0     0     1     0     2     0  6169     0     0     0     0     1]\n",
            " [    0     0     0     0     0     0     0    21     0     0     0     0]\n",
            " [    0     0     0     0     2     1     0     0  5433     0     0     0]\n",
            " [    1     0     0     0     0     0     0     0     0  6981     0     0]\n",
            " [    2     0     1     1     1     1     0     0     0     1  8362     0]\n",
            " [    3     0     1     2     2     1     0     0     1     0     0   463]]\n"
          ]
        }
      ]
    },
    {
      "cell_type": "code",
      "source": [],
      "metadata": {
        "id": "pGI2Nav_gZCN"
      },
      "execution_count": null,
      "outputs": []
    }
  ]
}