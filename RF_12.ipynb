{
  "nbformat": 4,
  "nbformat_minor": 0,
  "metadata": {
    "colab": {
      "provenance": [],
      "mount_file_id": "1lbUUlgZxzbxNfbXHELGKOI8ICIaQl2Oa",
      "authorship_tag": "ABX9TyMvA8G9Dp1ROCPzB4Xl8nk0",
      "include_colab_link": true
    },
    "kernelspec": {
      "name": "python3",
      "display_name": "Python 3"
    },
    "language_info": {
      "name": "python"
    }
  },
  "cells": [
    {
      "cell_type": "markdown",
      "metadata": {
        "id": "view-in-github",
        "colab_type": "text"
      },
      "source": [
        "<a href=\"https://colab.research.google.com/github/ushasri999/Multiclass-classification-of-DDoS-attacks-in-IoT-network-using-hybrid-feature-selection-algorithm/blob/main/RF_12.ipynb\" target=\"_parent\"><img src=\"https://colab.research.google.com/assets/colab-badge.svg\" alt=\"Open In Colab\"/></a>"
      ]
    },
    {
      "cell_type": "markdown",
      "source": [
        "**12 classes, 15 Features**"
      ],
      "metadata": {
        "id": "TxGz7vqQ11-E"
      }
    },
    {
      "cell_type": "code",
      "execution_count": null,
      "metadata": {
        "colab": {
          "base_uri": "https://localhost:8080/"
        },
        "id": "w9xTobBpwoVA",
        "outputId": "aa9c77c8-e1a2-4f77-90a9-0e408a7d0c68"
      },
      "outputs": [
        {
          "output_type": "stream",
          "name": "stdout",
          "text": [
            "(173777, 46)\n",
            "(173777,)\n"
          ]
        }
      ],
      "source": [
        "#5\n",
        "import pandas as pd\n",
        "import numpy as np\n",
        "from sklearn.ensemble import RandomForestClassifier\n",
        "from sklearn.model_selection import train_test_split, cross_val_score\n",
        "from sklearn.feature_selection import SelectKBest, f_classif, RFE\n",
        "from sklearn.metrics import classification_report, accuracy_score, confusion_matrix\n",
        "\n",
        "# Step 1: Load the filtered dataset\n",
        "df = pd.read_csv('/content/drive/MyDrive/major project/data.csv')  # Load your actual dataset here\n",
        "df_ddos = df[df['label'].str.contains('DDoS', case=False, na=False)]  # Filter DDoS labels\n",
        "\n",
        "# Step 2: Separate features and target\n",
        "X = df_ddos.drop(\"label\", axis=1, errors='ignore')  # Avoid crashing if 'label' does not exist\n",
        "y = df_ddos[\"label\"] if 'label' in df_ddos.columns else pd.Series([])  # Handle case where label is missing\n",
        "\n",
        "# Check if X and y are valid\n",
        "print(X.shape)  # Should not be empty\n",
        "print(y.shape)  # Should not be empty\n",
        "\n",
        "# Step 3: Handle categorical and missing data\n",
        "X = pd.get_dummies(X, drop_first=True)  # One-hot encode categorical features\n",
        "X.fillna(X.mean(), inplace=True)  # Fill missing values with the mean"
      ]
    },
    {
      "cell_type": "code",
      "source": [
        "# Step 4: Hybrid Feature Selection\n",
        "filter_selector = SelectKBest(score_func=f_classif, k=8)  # Select only top 5 features using filter method\n",
        "X_new_filter = filter_selector.fit_transform(X, y)\n",
        "filter_scores = filter_selector.scores_\n",
        "\n",
        "# Wrapper Method: Recursive Feature Elimination (RFE) with Random Forest\n",
        "rfe_selector = RFE(estimator=RandomForestClassifier(), n_features_to_select=7)  # Select 5 features\n",
        "X_new_wrapper = rfe_selector.fit_transform(X, y)\n",
        "rfe_ranking = rfe_selector.ranking_\n",
        "\n",
        "# Combine results: Select top 5 features from both methods\n",
        "top_features_filter = np.argsort(filter_scores)[-8:]  # Top 5 features from filter method\n",
        "print('top_features_filter ', top_features_filter)\n",
        "top_features_rfe = np.where(rfe_ranking == 1)[0]  # Features selected by RFE\n",
        "print('top_features_rfe ', top_features_rfe)\n",
        "top_features_combined = list(set(top_features_filter) | set(top_features_rfe))  # Combine both selections\n",
        "print('top_features_combined ', top_features_combined)\n",
        "\n",
        "# Step 5: Select top features from the dataset\n",
        "X_selected = X.iloc[:, top_features_combined]\n",
        "\n",
        "# Print the names of the selected features\n",
        "print(\"Selected Features:\", X_selected.columns.tolist())\n"
      ],
      "metadata": {
        "colab": {
          "base_uri": "https://localhost:8080/"
        },
        "id": "C-m0dBnSwxe3",
        "outputId": "626029a1-3f21-4ab1-e93d-0ff5831678a1"
      },
      "execution_count": null,
      "outputs": [
        {
          "output_type": "stream",
          "name": "stderr",
          "text": [
            "/usr/local/lib/python3.10/dist-packages/sklearn/feature_selection/_univariate_selection.py:112: UserWarning: Features [12 13 22 23 24 25 28] are constant.\n",
            "  warnings.warn(\"Features %s are constant.\" % constant_features_idx, UserWarning)\n",
            "/usr/local/lib/python3.10/dist-packages/sklearn/feature_selection/_univariate_selection.py:113: RuntimeWarning: invalid value encountered in divide\n",
            "  f = msb / msw\n"
          ]
        },
        {
          "output_type": "stream",
          "name": "stdout",
          "text": [
            "top_features_filter  [ 7 28 25 24 23 13 12 22]\n",
            "top_features_rfe  [ 7 10 15 34 36 39 41]\n",
            "top_features_combined  [34, 36, 7, 39, 41, 10, 12, 13, 15, 22, 23, 24, 25, 28]\n",
            "Selected Features: ['Min', 'AVG', 'fin_flag_number', 'IAT', 'Magnitue', 'psh_flag_number', 'ece_flag_number', 'cwr_flag_number', 'syn_count', 'Telnet', 'SMTP', 'SSH', 'IRC', 'DHCP']\n"
          ]
        }
      ]
    },
    {
      "cell_type": "markdown",
      "source": [],
      "metadata": {
        "id": "AQeaLYPp1yVf"
      }
    },
    {
      "cell_type": "code",
      "source": [
        "# Step 6: Train and Test Split\n",
        "from sklearn.metrics import precision_score, recall_score, f1_score, confusion_matrix\n",
        "X_train, X_test, y_train, y_test = train_test_split(X_selected, y, test_size=0.3, random_state=42)\n",
        "\n",
        "# Step 7: Train Random Forest Classifier\n",
        "rf_model = RandomForestClassifier(random_state=42)\n",
        "rf_model.fit(X_train, y_train)\n",
        "\n",
        "# Step 8: Evaluate the model\n",
        "y_pred = rf_model.predict(X_test)\n",
        "# Metrics\n",
        "accuracy = accuracy_score(y_test, y_pred)\n",
        "precision = precision_score(y_test, y_pred, average='weighted')  # Weighted for imbalanced classes\n",
        "recall = recall_score(y_test, y_pred, average='weighted')  # Weighted for imbalanced classes\n",
        "f1 = f1_score(y_test, y_pred, average='weighted')  # Weighted for imbalanced classes\n",
        "\n",
        "# Print metrics\n",
        "print(\"Accuracy:\", accuracy)\n",
        "print(\"Precision:\", precision)\n",
        "print(\"Recall:\", recall)\n",
        "print(\"F1 Score:\", f1)\n",
        "print(\"Classification Report:\\n\", classification_report(y_test, y_pred))\n",
        "\n",
        "# Confusion Matrix\n",
        "conf_matrix = confusion_matrix(y_test, y_pred)\n",
        "print(\"Confusion Matrix:\\n\", conf_matrix)\n",
        "\n",
        "# Step 9: Cross-validation (optional)\n",
        "cv_scores = cross_val_score(rf_model, X_selected, y, cv=5)\n",
        "print(\"Cross-validation Accuracy:\", np.mean(cv_scores))"
      ],
      "metadata": {
        "colab": {
          "base_uri": "https://localhost:8080/"
        },
        "id": "BYJU8Ikj1jY0",
        "outputId": "f1f2ef3b-ea04-4624-9982-df883a495754"
      },
      "execution_count": null,
      "outputs": [
        {
          "output_type": "stream",
          "name": "stdout",
          "text": [
            "Accuracy: 0.9987532128745157\n",
            "Precision: 0.9987888022153405\n",
            "Recall: 0.9987532128745157\n",
            "F1 Score: 0.9987653774953824\n",
            "Classification Report:\n",
            "                          precision    recall  f1-score   support\n",
            "\n",
            " DDoS-ACK_Fragmentation       0.98      0.99      0.98       441\n",
            "        DDoS-HTTP_Flood       0.85      0.92      0.88        48\n",
            "        DDoS-ICMP_Flood       1.00      1.00      1.00     10925\n",
            "DDoS-ICMP_Fragmentation       0.99      0.99      0.99       726\n",
            "      DDoS-PSHACK_Flood       1.00      1.00      1.00      6409\n",
            "       DDoS-RSTFINFlood       1.00      1.00      1.00      6131\n",
            "         DDoS-SYN_Flood       1.00      1.00      1.00      6173\n",
            "         DDoS-SlowLoris       0.73      0.90      0.81        21\n",
            "DDoS-SynonymousIP_Flood       1.00      1.00      1.00      5436\n",
            "         DDoS-TCP_Flood       1.00      1.00      1.00      6982\n",
            "         DDoS-UDP_Flood       1.00      1.00      1.00      8369\n",
            " DDoS-UDP_Fragmentation       0.98      0.96      0.97       473\n",
            "\n",
            "               accuracy                           1.00     52134\n",
            "              macro avg       0.96      0.98      0.97     52134\n",
            "           weighted avg       1.00      1.00      1.00     52134\n",
            "\n",
            "Confusion Matrix:\n",
            " [[  435     0     0     1     2     0     0     0     0     0     0     3]\n",
            " [    0    44     3     1     0     0     0     0     0     0     0     0]\n",
            " [    0     1 10921     1     0     0     0     0     0     0     2     0]\n",
            " [    2     2     0   716     1     0     0     0     1     0     0     4]\n",
            " [    1     2     0     0  6406     0     0     0     0     0     0     0]\n",
            " [    1     0     0     0     2  6124     0     0     2     0     1     1]\n",
            " [    0     1     0     0     0     0  6169     0     2     0     1     0]\n",
            " [    0     1     0     0     0     0     0    19     1     0     0     0]\n",
            " [    0     0     0     0     0     0     0     2  5431     0     1     2]\n",
            " [    1     0     0     0     0     0     0     0     0  6981     0     0]\n",
            " [    0     1     0     0     1     0     0     0     0     0  8367     0]\n",
            " [    3     0     0     7     0     0     0     5     1     0     1   456]]\n",
            "Cross-validation Accuracy: 0.9989872061866935\n"
          ]
        }
      ]
    },
    {
      "cell_type": "markdown",
      "source": [
        "**12 classes, 10 features**"
      ],
      "metadata": {
        "id": "ZSqSC8zgw2LE"
      }
    },
    {
      "cell_type": "code",
      "source": [
        "# Step 4: Hybrid Feature Selection\n",
        "filter_selector = SelectKBest(score_func=f_classif, k=5)  # Select only top 5 features using filter method\n",
        "X_new_filter = filter_selector.fit_transform(X, y)\n",
        "filter_scores = filter_selector.scores_\n",
        "\n",
        "# Wrapper Method: Recursive Feature Elimination (RFE) with Random Forest\n",
        "rfe_selector = RFE(estimator=RandomForestClassifier(), n_features_to_select=5)  # Select 5 features\n",
        "X_new_wrapper = rfe_selector.fit_transform(X, y)\n",
        "rfe_ranking = rfe_selector.ranking_\n",
        "\n",
        "# Combine results: Select top 5 features from both methods\n",
        "top_features_filter = np.argsort(filter_scores)[-5:]  # Top 5 features from filter method\n",
        "print('top_features_filter ', top_features_filter)\n",
        "top_features_rfe = np.where(rfe_ranking == 1)[0]  # Features selected by RFE\n",
        "print('top_features_rfe ', top_features_rfe)\n",
        "top_features_combined = list(set(top_features_filter) | set(top_features_rfe))  # Combine both selections\n",
        "print('top_features_combined ', top_features_combined)\n",
        "\n",
        "# Step 5: Select top features from the dataset\n",
        "X_selected = X.iloc[:, top_features_combined]\n",
        "\n",
        "# Print the names of the selected features\n",
        "print(\"Selected Features:\", X_selected.columns.tolist())\n"
      ],
      "metadata": {
        "colab": {
          "base_uri": "https://localhost:8080/"
        },
        "id": "dE9bvtFs8srl",
        "outputId": "a8850e73-1866-4c7f-c479-f220770322d6"
      },
      "execution_count": null,
      "outputs": [
        {
          "output_type": "stream",
          "name": "stderr",
          "text": [
            "/usr/local/lib/python3.10/dist-packages/sklearn/feature_selection/_univariate_selection.py:112: UserWarning: Features [12 13 22 23 24 25 28] are constant.\n",
            "  warnings.warn(\"Features %s are constant.\" % constant_features_idx, UserWarning)\n",
            "/usr/local/lib/python3.10/dist-packages/sklearn/feature_selection/_univariate_selection.py:113: RuntimeWarning: invalid value encountered in divide\n",
            "  f = msb / msw\n"
          ]
        },
        {
          "output_type": "stream",
          "name": "stdout",
          "text": [
            "top_features_filter  [24 23 13 12 22]\n",
            "top_features_rfe  [15 34 38 39 41]\n",
            "top_features_combined  [34, 38, 39, 41, 12, 13, 15, 22, 23, 24]\n",
            "Selected Features: ['Min', 'Tot size', 'IAT', 'Magnitue', 'ece_flag_number', 'cwr_flag_number', 'syn_count', 'Telnet', 'SMTP', 'SSH']\n"
          ]
        }
      ]
    },
    {
      "cell_type": "code",
      "source": [
        "# Step 6: Train and Test Split\n",
        "from sklearn.metrics import precision_score, recall_score, f1_score, confusion_matrix\n",
        "X_train, X_test, y_train, y_test = train_test_split(X_selected, y, test_size=0.3, random_state=42)\n",
        "\n",
        "# Step 7: Train Random Forest Classifier\n",
        "rf_model = RandomForestClassifier(random_state=42)\n",
        "rf_model.fit(X_train, y_train)\n",
        "\n",
        "# Step 8: Evaluate the model\n",
        "y_pred = rf_model.predict(X_test)\n",
        "# Metrics\n",
        "accuracy = accuracy_score(y_test, y_pred)\n",
        "precision = precision_score(y_test, y_pred, average='weighted')  # Weighted for imbalanced classes\n",
        "recall = recall_score(y_test, y_pred, average='weighted')  # Weighted for imbalanced classes\n",
        "f1 = f1_score(y_test, y_pred, average='weighted')  # Weighted for imbalanced classes\n",
        "\n",
        "# Print metrics\n",
        "print(\"Accuracy:\", accuracy)\n",
        "print(\"Precision:\", precision)\n",
        "print(\"Recall:\", recall)\n",
        "print(\"F1 Score:\", f1)\n",
        "print(\"Classification Report:\\n\", classification_report(y_test, y_pred))\n",
        "\n",
        "# Confusion Matrix\n",
        "conf_matrix = confusion_matrix(y_test, y_pred)\n",
        "print(\"Confusion Matrix:\\n\", conf_matrix)\n",
        "\n",
        "# Step 9: Cross-validation (optional)\n",
        "cv_scores = cross_val_score(rf_model, X_selected, y, cv=5)\n",
        "print(\"Cross-validation Accuracy:\", np.mean(cv_scores))"
      ],
      "metadata": {
        "colab": {
          "base_uri": "https://localhost:8080/"
        },
        "id": "jQqKdRkn8w92",
        "outputId": "d9e596b5-fddc-4528-c5f1-4eb3d87ca988"
      },
      "execution_count": null,
      "outputs": [
        {
          "output_type": "stream",
          "name": "stdout",
          "text": [
            "Accuracy: 0.9990792956611808\n",
            "Precision: 0.9991007284151532\n",
            "Recall: 0.9990792956611808\n",
            "F1 Score: 0.9990856691141801\n",
            "Classification Report:\n",
            "                          precision    recall  f1-score   support\n",
            "\n",
            " DDoS-ACK_Fragmentation       0.98      0.99      0.99       441\n",
            "        DDoS-HTTP_Flood       0.90      0.98      0.94        48\n",
            "        DDoS-ICMP_Flood       1.00      1.00      1.00     10925\n",
            "DDoS-ICMP_Fragmentation       0.99      0.99      0.99       726\n",
            "      DDoS-PSHACK_Flood       1.00      1.00      1.00      6409\n",
            "       DDoS-RSTFINFlood       1.00      1.00      1.00      6131\n",
            "         DDoS-SYN_Flood       1.00      1.00      1.00      6173\n",
            "         DDoS-SlowLoris       0.80      0.95      0.87        21\n",
            "DDoS-SynonymousIP_Flood       1.00      1.00      1.00      5436\n",
            "         DDoS-TCP_Flood       1.00      1.00      1.00      6982\n",
            "         DDoS-UDP_Flood       1.00      1.00      1.00      8369\n",
            " DDoS-UDP_Fragmentation       0.98      0.97      0.98       473\n",
            "\n",
            "               accuracy                           1.00     52134\n",
            "              macro avg       0.97      0.99      0.98     52134\n",
            "           weighted avg       1.00      1.00      1.00     52134\n",
            "\n",
            "Confusion Matrix:\n",
            " [[  435     0     0     1     1     1     0     0     0     0     0     3]\n",
            " [    0    47     1     0     0     0     0     0     0     0     0     0]\n",
            " [    0     0 10923     1     0     0     0     0     0     0     1     0]\n",
            " [    0     3     0   719     1     0     0     0     0     0     0     3]\n",
            " [    1     0     0     0  6406     1     0     0     1     0     0     0]\n",
            " [    2     1     0     0     0  6125     0     0     1     0     1     1]\n",
            " [    0     0     0     0     0     0  6170     0     2     0     1     0]\n",
            " [    0     0     0     0     0     0     0    20     1     0     0     0]\n",
            " [    2     0     0     0     0     0     0     0  5433     0     0     1]\n",
            " [    0     0     0     0     0     0     0     1     0  6981     0     0]\n",
            " [    0     1     0     0     0     1     0     0     0     0  8367     0]\n",
            " [    2     0     0     5     0     0     0     4     1     0     1   460]]\n",
            "Cross-validation Accuracy: 0.9990562611645212\n"
          ]
        }
      ]
    },
    {
      "cell_type": "markdown",
      "source": [
        "**12 classes, 5 features**"
      ],
      "metadata": {
        "id": "1e2VKiLGA4Ox"
      }
    },
    {
      "cell_type": "code",
      "source": [
        "# Step 4: Hybrid Feature Selection\n",
        "filter_selector = SelectKBest(score_func=f_classif, k=3)  # Select only top 5 features using filter method\n",
        "X_new_filter = filter_selector.fit_transform(X, y)\n",
        "filter_scores = filter_selector.scores_\n",
        "\n",
        "# Wrapper Method: Recursive Feature Elimination (RFE) with Random Forest\n",
        "rfe_selector = RFE(estimator=RandomForestClassifier(), n_features_to_select=2)  # Select 5 features\n",
        "X_new_wrapper = rfe_selector.fit_transform(X, y)\n",
        "rfe_ranking = rfe_selector.ranking_\n",
        "\n",
        "# Combine results: Select top 5 features from both methods\n",
        "top_features_filter = np.argsort(filter_scores)[-3:]  # Top 5 features from filter method\n",
        "print('top_features_filter ', top_features_filter)\n",
        "top_features_rfe = np.where(rfe_ranking == 1)[0]  # Features selected by RFE\n",
        "print('top_features_rfe ', top_features_rfe)\n",
        "top_features_combined = list(set(top_features_filter) | set(top_features_rfe))  # Combine both selections\n",
        "print('top_features_combined ', top_features_combined)\n",
        "\n",
        "# Step 5: Select top features from the dataset\n",
        "X_selected = X.iloc[:, top_features_combined]\n",
        "\n",
        "# Print the names of the selected features\n",
        "print(\"Selected Features:\", X_selected.columns.tolist())\n"
      ],
      "metadata": {
        "colab": {
          "base_uri": "https://localhost:8080/"
        },
        "id": "VIjBF30qASs_",
        "outputId": "64d41d22-6a96-41f0-a902-35b9c468fa0c"
      },
      "execution_count": null,
      "outputs": [
        {
          "output_type": "stream",
          "name": "stderr",
          "text": [
            "/usr/local/lib/python3.10/dist-packages/sklearn/feature_selection/_univariate_selection.py:112: UserWarning: Features [12 13 22 23 24 25 28] are constant.\n",
            "  warnings.warn(\"Features %s are constant.\" % constant_features_idx, UserWarning)\n",
            "/usr/local/lib/python3.10/dist-packages/sklearn/feature_selection/_univariate_selection.py:113: RuntimeWarning: invalid value encountered in divide\n",
            "  f = msb / msw\n"
          ]
        },
        {
          "output_type": "stream",
          "name": "stdout",
          "text": [
            "top_features_filter  [13 12 22]\n",
            "top_features_rfe  [34 39]\n",
            "top_features_combined  [34, 22, 39, 12, 13]\n",
            "Selected Features: ['Min', 'Telnet', 'IAT', 'ece_flag_number', 'cwr_flag_number']\n"
          ]
        }
      ]
    },
    {
      "cell_type": "code",
      "source": [
        "# Step 6: Train and Test Split\n",
        "from sklearn.metrics import precision_score, recall_score, f1_score, confusion_matrix\n",
        "X_train, X_test, y_train, y_test = train_test_split(X_selected, y, test_size=0.3, random_state=42)\n",
        "\n",
        "# Step 7: Train Random Forest Classifier\n",
        "rf_model = RandomForestClassifier(random_state=42)\n",
        "rf_model.fit(X_train, y_train)\n",
        "\n",
        "# Step 8: Evaluate the model\n",
        "y_pred = rf_model.predict(X_test)\n",
        "# Metrics\n",
        "accuracy = accuracy_score(y_test, y_pred)\n",
        "precision = precision_score(y_test, y_pred, average='weighted')  # Weighted for imbalanced classes\n",
        "recall = recall_score(y_test, y_pred, average='weighted')  # Weighted for imbalanced classes\n",
        "f1 = f1_score(y_test, y_pred, average='weighted')  # Weighted for imbalanced classes\n",
        "\n",
        "# Print metrics\n",
        "print(\"Accuracy:\", accuracy)\n",
        "print(\"Precision:\", precision)\n",
        "print(\"Recall:\", recall)\n",
        "print(\"F1 Score:\", f1)\n",
        "print(\"Classification Report:\\n\", classification_report(y_test, y_pred))\n",
        "\n",
        "# Confusion Matrix\n",
        "conf_matrix = confusion_matrix(y_test, y_pred)\n",
        "print(\"Confusion Matrix:\\n\", conf_matrix)\n",
        "\n",
        "# Step 9: Cross-validation (optional)\n",
        "cv_scores = cross_val_score(rf_model, X_selected, y, cv=5)\n",
        "print(\"Cross-validation Accuracy:\", np.mean(cv_scores))"
      ],
      "metadata": {
        "colab": {
          "base_uri": "https://localhost:8080/"
        },
        "id": "YBmXs20JA20q",
        "outputId": "56d344de-727c-40aa-be6b-d22b37e84f59"
      },
      "execution_count": null,
      "outputs": [
        {
          "output_type": "stream",
          "name": "stdout",
          "text": [
            "Accuracy: 0.9994629224690221\n",
            "Precision: 0.9994632770266022\n",
            "Recall: 0.9994629224690221\n",
            "F1 Score: 0.9994626950395712\n",
            "Classification Report:\n",
            "                          precision    recall  f1-score   support\n",
            "\n",
            " DDoS-ACK_Fragmentation       0.99      0.99      0.99       441\n",
            "        DDoS-HTTP_Flood       0.98      1.00      0.99        48\n",
            "        DDoS-ICMP_Flood       1.00      1.00      1.00     10925\n",
            "DDoS-ICMP_Fragmentation       0.99      0.99      0.99       726\n",
            "      DDoS-PSHACK_Flood       1.00      1.00      1.00      6409\n",
            "       DDoS-RSTFINFlood       1.00      1.00      1.00      6131\n",
            "         DDoS-SYN_Flood       1.00      1.00      1.00      6173\n",
            "         DDoS-SlowLoris       0.95      0.95      0.95        21\n",
            "DDoS-SynonymousIP_Flood       1.00      1.00      1.00      5436\n",
            "         DDoS-TCP_Flood       1.00      1.00      1.00      6982\n",
            "         DDoS-UDP_Flood       1.00      1.00      1.00      8369\n",
            " DDoS-UDP_Fragmentation       0.99      0.98      0.99       473\n",
            "\n",
            "               accuracy                           1.00     52134\n",
            "              macro avg       0.99      0.99      0.99     52134\n",
            "           weighted avg       1.00      1.00      1.00     52134\n",
            "\n",
            "Confusion Matrix:\n",
            " [[  438     0     0     0     0     1     0     0     0     0     0     2]\n",
            " [    0    48     0     0     0     0     0     0     0     0     0     0]\n",
            " [    0     0 10925     0     0     0     0     0     0     0     0     0]\n",
            " [    2     1     0   722     0     0     0     1     0     0     0     0]\n",
            " [    0     0     0     0  6407     1     0     0     1     0     0     0]\n",
            " [    0     0     0     0     0  6131     0     0     0     0     0     0]\n",
            " [    0     0     0     0     1     0  6170     0     1     0     1     0]\n",
            " [    0     0     0     0     0     0     0    20     1     0     0     0]\n",
            " [    0     0     0     0     2     0     0     0  5432     1     0     1]\n",
            " [    0     0     0     1     0     0     0     0     0  6981     0     0]\n",
            " [    0     0     0     0     0     0     2     0     0     0  8367     0]\n",
            " [    3     0     0     4     0     0     0     0     1     0     0   465]]\n",
            "Cross-validation Accuracy: 0.9993785143059272\n"
          ]
        }
      ]
    },
    {
      "cell_type": "code",
      "source": [],
      "metadata": {
        "id": "faHM9BokEX3b"
      },
      "execution_count": null,
      "outputs": []
    }
  ]
}