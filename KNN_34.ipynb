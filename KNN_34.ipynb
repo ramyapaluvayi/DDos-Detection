{
  "cells": [
    {
      "cell_type": "markdown",
      "metadata": {
        "id": "view-in-github",
        "colab_type": "text"
      },
      "source": [
        "<a href=\"https://colab.research.google.com/github/ushasri999/Multiclass-classification-of-DDoS-attacks-in-IoT-network-using-hybrid-feature-selection-algorithm/blob/main/Copy_of_KNN_34.ipynb\" target=\"_parent\"><img src=\"https://colab.research.google.com/assets/colab-badge.svg\" alt=\"Open In Colab\"/></a>"
      ]
    },
    {
      "cell_type": "markdown",
      "metadata": {
        "id": "2SRSZDbKpndh"
      },
      "source": [
        "**34 classe, 15 features**"
      ]
    },
    {
      "cell_type": "code",
      "execution_count": null,
      "metadata": {
        "colab": {
          "base_uri": "https://localhost:8080/"
        },
        "id": "kSORVi_ophq-",
        "outputId": "2f6b953e-43f9-4fb4-cd8d-2fee37250851"
      },
      "outputs": [
        {
          "name": "stdout",
          "output_type": "stream",
          "text": [
            "Features shape: (238687, 46)\n",
            "Target shape: (238687,)\n"
          ]
        }
      ],
      "source": [
        "import pandas as pd\n",
        "import numpy as np\n",
        "from sklearn.neighbors import KNeighborsClassifier\n",
        "from sklearn.ensemble import RandomForestClassifier\n",
        "from sklearn.model_selection import train_test_split\n",
        "from sklearn.metrics import classification_report, accuracy_score, precision_score, recall_score, f1_score, confusion_matrix\n",
        "from sklearn.feature_selection import SelectKBest, f_classif, RFE\n",
        "\n",
        "# Step 1: Load the filtered dataset\n",
        "df = pd.read_csv('/content/drive/MyDrive/major project/data.csv')  # Load your actual dataset here\n",
        "\n",
        "# Step 2: Separate features and target\n",
        "X = df.drop(\"label\", axis=1, errors='ignore')  # Avoid crashing if 'label' does not exist\n",
        "y = df[\"label\"] if 'label' in df.columns else pd.Series([])  # Handle case where label is missing\n",
        "\n",
        "# Check if X and y are valid\n",
        "print(\"Features shape:\", X.shape)  # Should not be empty\n",
        "print(\"Target shape:\", y.shape)  # Should not be empty\n",
        "\n",
        "# Step 3: Handle categorical and missing data\n",
        "X = pd.get_dummies(X, drop_first=True)  # One-hot encode categorical features\n",
        "X.fillna(X.mean(), inplace=True)  # Fill missing values with the mean\n"
      ]
    },
    {
      "cell_type": "code",
      "execution_count": null,
      "metadata": {
        "colab": {
          "background_save": true,
          "base_uri": "https://localhost:8080/"
        },
        "id": "SPm5FaIdpwzI",
        "outputId": "eec7d75b-523f-4e97-ee1a-485b82e2e316"
      },
      "outputs": [
        {
          "name": "stderr",
          "output_type": "stream",
          "text": [
            "/usr/local/lib/python3.10/dist-packages/sklearn/feature_selection/_univariate_selection.py:112: UserWarning: Features [12 13 22 23 25 28] are constant.\n",
            "  warnings.warn(\"Features %s are constant.\" % constant_features_idx, UserWarning)\n",
            "/usr/local/lib/python3.10/dist-packages/sklearn/feature_selection/_univariate_selection.py:113: RuntimeWarning: invalid value encountered in divide\n",
            "  f = msb / msw\n"
          ]
        },
        {
          "name": "stdout",
          "output_type": "stream",
          "text": [
            "top_features_filter  [30  7 28 23 13 12 25 22]\n",
            "top_features_rfe  [ 7 15 34 36 38 39 41]\n",
            "top_features_combined  [34, 36, 38, 7, 39, 41, 12, 13, 15, 22, 23, 25, 28, 30]\n",
            "Selected Features: ['Min', 'AVG', 'Tot size', 'fin_flag_number', 'IAT', 'Magnitue', 'ece_flag_number', 'cwr_flag_number', 'syn_count', 'Telnet', 'SMTP', 'IRC', 'DHCP', 'ICMP']\n"
          ]
        }
      ],
      "source": [
        "# Step 4: Hybrid Feature Selection\n",
        "filter_selector = SelectKBest(score_func=f_classif, k=8)  # Select only top 5 features using filter method\n",
        "X_new_filter = filter_selector.fit_transform(X, y)\n",
        "filter_scores = filter_selector.scores_\n",
        "\n",
        "# Wrapper Method: Recursive Feature Elimination (RFE) with Random Forest\n",
        "rfe_selector = RFE(estimator=RandomForestClassifier(), n_features_to_select=7)  # Select 5 features\n",
        "X_new_wrapper = rfe_selector.fit_transform(X, y)\n",
        "rfe_ranking = rfe_selector.ranking_\n",
        "\n",
        "# Combine results: Select top 5 features from both methods\n",
        "top_features_filter = np.argsort(filter_scores)[-8:]  # Top 5 features from filter method\n",
        "print('top_features_filter ', top_features_filter)\n",
        "top_features_rfe = np.where(rfe_ranking == 1)[0]  # Features selected by RFE\n",
        "print('top_features_rfe ', top_features_rfe)\n",
        "top_features_combined = list(set(top_features_filter) | set(top_features_rfe))  # Combine both selections\n",
        "print('top_features_combined ', top_features_combined)\n",
        "\n",
        "# Step 5: Select top features from the dataset\n",
        "X_selected = X.iloc[:, top_features_combined]\n",
        "\n",
        "# Print the names of the selected features\n",
        "print(\"Selected Features:\", X_selected.columns.tolist())\n"
      ]
    },
    {
      "cell_type": "code",
      "execution_count": null,
      "metadata": {
        "colab": {
          "background_save": true
        },
        "id": "BzfqT00DpzBb",
        "outputId": "0295927d-c2e1-4d52-9af4-decd794ea5e8"
      },
      "outputs": [
        {
          "name": "stdout",
          "output_type": "stream",
          "text": [
            "Accuracy: 0.9904757914729007\n",
            "Precision: 0.9907099334061238\n",
            "Recall: 0.9904757914729007\n",
            "F1 Score: 0.9900357027626276\n",
            "Classification Report:\n",
            "                          precision    recall  f1-score   support\n",
            "\n",
            "       Backdoor_Malware       1.00      1.00      1.00         4\n",
            "          BenignTraffic       0.79      0.95      0.86      1667\n",
            "       BrowserHijacking       0.75      0.38      0.50         8\n",
            "       CommandInjection       0.57      0.67      0.62         6\n",
            " DDoS-ACK_Fragmentation       0.97      0.98      0.98       463\n",
            "        DDoS-HTTP_Flood       1.00      1.00      1.00        52\n",
            "        DDoS-ICMP_Flood       1.00      1.00      1.00     11141\n",
            "DDoS-ICMP_Fragmentation       0.98      1.00      0.99       685\n",
            "      DDoS-PSHACK_Flood       1.00      1.00      1.00      6319\n",
            "       DDoS-RSTFINFlood       1.00      1.00      1.00      6238\n",
            "         DDoS-SYN_Flood       1.00      1.00      1.00      6261\n",
            "         DDoS-SlowLoris       1.00      1.00      1.00        40\n",
            "DDoS-SynonymousIP_Flood       1.00      1.00      1.00      5354\n",
            "         DDoS-TCP_Flood       1.00      1.00      1.00      6929\n",
            "         DDoS-UDP_Flood       1.00      1.00      1.00      8402\n",
            " DDoS-UDP_Fragmentation       1.00      0.98      0.99       450\n",
            "           DNS_Spoofing       0.83      0.54      0.65       267\n",
            "   DictionaryBruteForce       1.00      0.75      0.86        16\n",
            "         DoS-HTTP_Flood       1.00      0.99      1.00       116\n",
            "          DoS-SYN_Flood       1.00      1.00      1.00      3034\n",
            "          DoS-TCP_Flood       1.00      1.00      1.00      4069\n",
            "          DoS-UDP_Flood       1.00      1.00      1.00      4992\n",
            "       MITM-ArpSpoofing       0.80      0.66      0.73       481\n",
            "     Mirai-greeth_flood       0.99      1.00      0.99      1502\n",
            "      Mirai-greip_flood       1.00      0.99      1.00      1143\n",
            "         Mirai-udpplain       1.00      0.99      0.99      1369\n",
            "    Recon-HostDiscovery       0.83      0.69      0.75       215\n",
            "           Recon-OSScan       0.83      0.52      0.64       165\n",
            "        Recon-PingSweep       1.00      1.00      1.00         1\n",
            "         Recon-PortScan       0.85      0.53      0.65       116\n",
            "           SqlInjection       1.00      0.54      0.70        13\n",
            "       Uploading_Attack       1.00      0.50      0.67         2\n",
            "      VulnerabilityScan       1.00      1.00      1.00        80\n",
            "                    XSS       1.00      0.14      0.25         7\n",
            "\n",
            "               accuracy                           0.99     71607\n",
            "              macro avg       0.95      0.85      0.88     71607\n",
            "           weighted avg       0.99      0.99      0.99     71607\n",
            "\n",
            "Confusion Matrix:\n",
            " [[   4    0    0 ...    0    0    0]\n",
            " [   0 1578    0 ...    0    0    0]\n",
            " [   0    5    3 ...    0    0    0]\n",
            " ...\n",
            " [   0    1    0 ...    1    0    0]\n",
            " [   0    0    0 ...    0   80    0]\n",
            " [   0    3    0 ...    0    0    1]]\n"
          ]
        }
      ],
      "source": [
        "\n",
        "# Step 4: Train and Test Split\n",
        "X_train, X_test, y_train, y_test = train_test_split(X_selected, y, test_size=0.3, random_state=42)\n",
        "\n",
        "# Step 5: Train K-Nearest Neighbors Classifier\n",
        "knn_model = KNeighborsClassifier(n_neighbors=5)  # You can adjust n_neighbors as needed\n",
        "knn_model.fit(X_train, y_train)\n",
        "\n",
        "# Step 6: Evaluate the model\n",
        "y_pred = knn_model.predict(X_test)\n",
        "\n",
        "# Metrics\n",
        "accuracy = accuracy_score(y_test, y_pred)\n",
        "precision = precision_score(y_test, y_pred, average='weighted')  # Weighted for imbalanced classes\n",
        "recall = recall_score(y_test, y_pred, average='weighted')  # Weighted for imbalanced classes\n",
        "f1 = f1_score(y_test, y_pred, average='weighted')  # Weighted for imbalanced classes\n",
        "\n",
        "# Print metrics\n",
        "print(\"Accuracy:\", accuracy)\n",
        "print(\"Precision:\", precision)\n",
        "print(\"Recall:\", recall)\n",
        "print(\"F1 Score:\", f1)\n",
        "print(\"Classification Report:\\n\", classification_report(y_test, y_pred))\n",
        "\n",
        "# Confusion Matrix\n",
        "conf_matrix = confusion_matrix(y_test, y_pred)\n",
        "print(\"Confusion Matrix:\\n\", conf_matrix)"
      ]
    },
    {
      "cell_type": "markdown",
      "metadata": {
        "id": "Dgd56Brpp8IL"
      },
      "source": [
        "**34 classe, 10 features**"
      ]
    },
    {
      "cell_type": "code",
      "execution_count": null,
      "metadata": {
        "colab": {
          "background_save": true,
          "base_uri": "https://localhost:8080/"
        },
        "id": "GISzYN5Tp0-O",
        "outputId": "f6b7a076-7fdd-4614-c4af-970ca4689018"
      },
      "outputs": [
        {
          "name": "stderr",
          "output_type": "stream",
          "text": [
            "/usr/local/lib/python3.10/dist-packages/sklearn/feature_selection/_univariate_selection.py:112: UserWarning: Features [12 13 22 23 25 28] are constant.\n",
            "  warnings.warn(\"Features %s are constant.\" % constant_features_idx, UserWarning)\n",
            "/usr/local/lib/python3.10/dist-packages/sklearn/feature_selection/_univariate_selection.py:113: RuntimeWarning: invalid value encountered in divide\n",
            "  f = msb / msw\n"
          ]
        },
        {
          "name": "stdout",
          "output_type": "stream",
          "text": [
            "top_features_filter  [23 13 12 25 22]\n",
            "top_features_rfe  [15 34 38 39 41]\n",
            "top_features_combined  [34, 38, 39, 41, 12, 13, 15, 22, 23, 25]\n",
            "Selected Features: ['Min', 'Tot size', 'IAT', 'Magnitue', 'ece_flag_number', 'cwr_flag_number', 'syn_count', 'Telnet', 'SMTP', 'IRC']\n"
          ]
        }
      ],
      "source": [
        "# Step 4: Hybrid Feature Selection\n",
        "filter_selector = SelectKBest(score_func=f_classif, k=5)  # Select only top 5 features using filter method\n",
        "X_new_filter = filter_selector.fit_transform(X, y)\n",
        "filter_scores = filter_selector.scores_\n",
        "\n",
        "# Wrapper Method: Recursive Feature Elimination (RFE) with Random Forest\n",
        "rfe_selector = RFE(estimator=RandomForestClassifier(), n_features_to_select=5)  # Select 5 features\n",
        "X_new_wrapper = rfe_selector.fit_transform(X, y)\n",
        "rfe_ranking = rfe_selector.ranking_\n",
        "\n",
        "# Combine results: Select top 5 features from both methods\n",
        "top_features_filter = np.argsort(filter_scores)[-5:]  # Top 5 features from filter method\n",
        "print('top_features_filter ', top_features_filter)\n",
        "top_features_rfe = np.where(rfe_ranking == 1)[0]  # Features selected by RFE\n",
        "print('top_features_rfe ', top_features_rfe)\n",
        "top_features_combined = list(set(top_features_filter) | set(top_features_rfe))  # Combine both selections\n",
        "print('top_features_combined ', top_features_combined)\n",
        "\n",
        "# Step 5: Select top features from the dataset\n",
        "X_selected = X.iloc[:, top_features_combined]\n",
        "\n",
        "# Print the names of the selected features\n",
        "print(\"Selected Features:\", X_selected.columns.tolist())\n"
      ]
    },
    {
      "cell_type": "code",
      "execution_count": null,
      "metadata": {
        "colab": {
          "background_save": true
        },
        "id": "PPJDBT-ZqBUh",
        "outputId": "ec9b90b3-09c5-4699-8f4b-36ee8637d537"
      },
      "outputs": [
        {
          "name": "stdout",
          "output_type": "stream",
          "text": [
            "Accuracy: 0.9904618263577584\n",
            "Precision: 0.990763773180331\n",
            "Recall: 0.9904618263577584\n",
            "F1 Score: 0.9900067001261437\n",
            "Classification Report:\n",
            "                          precision    recall  f1-score   support\n",
            "\n",
            "       Backdoor_Malware       0.50      1.00      0.67         4\n",
            "          BenignTraffic       0.78      0.95      0.86      1667\n",
            "       BrowserHijacking       0.75      0.38      0.50         8\n",
            "       CommandInjection       0.67      0.67      0.67         6\n",
            " DDoS-ACK_Fragmentation       0.97      0.98      0.98       463\n",
            "        DDoS-HTTP_Flood       1.00      1.00      1.00        52\n",
            "        DDoS-ICMP_Flood       1.00      1.00      1.00     11141\n",
            "DDoS-ICMP_Fragmentation       0.98      1.00      0.99       685\n",
            "      DDoS-PSHACK_Flood       1.00      1.00      1.00      6319\n",
            "       DDoS-RSTFINFlood       1.00      1.00      1.00      6238\n",
            "         DDoS-SYN_Flood       1.00      1.00      1.00      6261\n",
            "         DDoS-SlowLoris       1.00      1.00      1.00        40\n",
            "DDoS-SynonymousIP_Flood       1.00      1.00      1.00      5354\n",
            "         DDoS-TCP_Flood       1.00      1.00      1.00      6929\n",
            "         DDoS-UDP_Flood       1.00      1.00      1.00      8402\n",
            " DDoS-UDP_Fragmentation       1.00      0.98      0.99       450\n",
            "           DNS_Spoofing       0.82      0.55      0.66       267\n",
            "   DictionaryBruteForce       1.00      0.75      0.86        16\n",
            "         DoS-HTTP_Flood       1.00      0.99      1.00       116\n",
            "          DoS-SYN_Flood       1.00      1.00      1.00      3034\n",
            "          DoS-TCP_Flood       1.00      1.00      1.00      4069\n",
            "          DoS-UDP_Flood       1.00      1.00      1.00      4992\n",
            "       MITM-ArpSpoofing       0.82      0.63      0.71       481\n",
            "     Mirai-greeth_flood       0.99      1.00      0.99      1502\n",
            "      Mirai-greip_flood       1.00      0.99      1.00      1143\n",
            "         Mirai-udpplain       0.99      0.99      0.99      1369\n",
            "    Recon-HostDiscovery       0.85      0.70      0.77       215\n",
            "           Recon-OSScan       0.83      0.52      0.64       165\n",
            "        Recon-PingSweep       1.00      1.00      1.00         1\n",
            "         Recon-PortScan       0.85      0.53      0.66       116\n",
            "           SqlInjection       1.00      0.54      0.70        13\n",
            "       Uploading_Attack       1.00      0.50      0.67         2\n",
            "      VulnerabilityScan       1.00      1.00      1.00        80\n",
            "                    XSS       1.00      0.14      0.25         7\n",
            "\n",
            "               accuracy                           0.99     71607\n",
            "              macro avg       0.94      0.85      0.87     71607\n",
            "           weighted avg       0.99      0.99      0.99     71607\n",
            "\n",
            "Confusion Matrix:\n",
            " [[   4    0    0 ...    0    0    0]\n",
            " [   4 1587    0 ...    0    0    0]\n",
            " [   0    5    3 ...    0    0    0]\n",
            " ...\n",
            " [   0    1    0 ...    1    0    0]\n",
            " [   0    0    0 ...    0   80    0]\n",
            " [   0    4    0 ...    0    0    1]]\n"
          ]
        }
      ],
      "source": [
        "\n",
        "# Step 4: Train and Test Split\n",
        "X_train, X_test, y_train, y_test = train_test_split(X_selected, y, test_size=0.3, random_state=42)\n",
        "\n",
        "# Step 5: Train K-Nearest Neighbors Classifier\n",
        "knn_model = KNeighborsClassifier(n_neighbors=5)  # You can adjust n_neighbors as needed\n",
        "knn_model.fit(X_train, y_train)\n",
        "\n",
        "# Step 6: Evaluate the model\n",
        "y_pred = knn_model.predict(X_test)\n",
        "\n",
        "# Metrics\n",
        "accuracy = accuracy_score(y_test, y_pred)\n",
        "precision = precision_score(y_test, y_pred, average='weighted')  # Weighted for imbalanced classes\n",
        "recall = recall_score(y_test, y_pred, average='weighted')  # Weighted for imbalanced classes\n",
        "f1 = f1_score(y_test, y_pred, average='weighted')  # Weighted for imbalanced classes\n",
        "\n",
        "# Print metrics\n",
        "print(\"Accuracy:\", accuracy)\n",
        "print(\"Precision:\", precision)\n",
        "print(\"Recall:\", recall)\n",
        "print(\"F1 Score:\", f1)\n",
        "print(\"Classification Report:\\n\", classification_report(y_test, y_pred))\n",
        "\n",
        "# Confusion Matrix\n",
        "conf_matrix = confusion_matrix(y_test, y_pred)\n",
        "print(\"Confusion Matrix:\\n\", conf_matrix)"
      ]
    },
    {
      "cell_type": "markdown",
      "metadata": {
        "id": "uxqnl-KVqGp7"
      },
      "source": [
        "**34 classe, 5 features**"
      ]
    },
    {
      "cell_type": "code",
      "execution_count": null,
      "metadata": {
        "colab": {
          "background_save": true
        },
        "id": "q68XbffRqDib",
        "outputId": "8a32ac72-781b-4aeb-a304-c5b437f000c1"
      },
      "outputs": [
        {
          "name": "stderr",
          "output_type": "stream",
          "text": [
            "/usr/local/lib/python3.10/dist-packages/sklearn/feature_selection/_univariate_selection.py:112: UserWarning: Features [12 13 22 23 25 28] are constant.\n",
            "  warnings.warn(\"Features %s are constant.\" % constant_features_idx, UserWarning)\n",
            "/usr/local/lib/python3.10/dist-packages/sklearn/feature_selection/_univariate_selection.py:113: RuntimeWarning: invalid value encountered in divide\n",
            "  f = msb / msw\n"
          ]
        },
        {
          "name": "stdout",
          "output_type": "stream",
          "text": [
            "top_features_filter  [12 25 22]\n",
            "top_features_rfe  [34 39]\n",
            "top_features_combined  [34, 22, 39, 25, 12]\n",
            "Selected Features: ['Min', 'Telnet', 'IAT', 'IRC', 'ece_flag_number']\n"
          ]
        }
      ],
      "source": [
        "# Step 4: Hybrid Feature Selection\n",
        "filter_selector = SelectKBest(score_func=f_classif, k=3)  # Select only top 5 features using filter method\n",
        "X_new_filter = filter_selector.fit_transform(X, y)\n",
        "filter_scores = filter_selector.scores_\n",
        "\n",
        "# Wrapper Method: Recursive Feature Elimination (RFE) with Random Forest\n",
        "rfe_selector = RFE(estimator=RandomForestClassifier(), n_features_to_select=2)  # Select 5 features\n",
        "X_new_wrapper = rfe_selector.fit_transform(X, y)\n",
        "rfe_ranking = rfe_selector.ranking_\n",
        "\n",
        "# Combine results: Select top 5 features from both methods\n",
        "top_features_filter = np.argsort(filter_scores)[-3:]  # Top 5 features from filter method\n",
        "print('top_features_filter ', top_features_filter)\n",
        "top_features_rfe = np.where(rfe_ranking == 1)[0]  # Features selected by RFE\n",
        "print('top_features_rfe ', top_features_rfe)\n",
        "top_features_combined = list(set(top_features_filter) | set(top_features_rfe))  # Combine both selections\n",
        "print('top_features_combined ', top_features_combined)\n",
        "\n",
        "# Step 5: Select top features from the dataset\n",
        "X_selected = X.iloc[:, top_features_combined]\n",
        "\n",
        "# Print the names of the selected features\n",
        "print(\"Selected Features:\", X_selected.columns.tolist())\n"
      ]
    },
    {
      "cell_type": "code",
      "execution_count": null,
      "metadata": {
        "id": "lS-RM5PwqKJ8"
      },
      "outputs": [],
      "source": [
        "\n",
        "# Step 4: Train and Test Split\n",
        "X_train, X_test, y_train, y_test = train_test_split(X_selected, y, test_size=0.3, random_state=42)\n",
        "\n",
        "# Step 5: Train K-Nearest Neighbors Classifier\n",
        "knn_model = KNeighborsClassifier(n_neighbors=5)  # You can adjust n_neighbors as needed\n",
        "knn_model.fit(X_train, y_train)\n",
        "\n",
        "# Step 6: Evaluate the model\n",
        "y_pred = knn_model.predict(X_test)\n",
        "\n",
        "# Metrics\n",
        "accuracy = accuracy_score(y_test, y_pred)\n",
        "precision = precision_score(y_test, y_pred, average='weighted')  # Weighted for imbalanced classes\n",
        "recall = recall_score(y_test, y_pred, average='weighted')  # Weighted for imbalanced classes\n",
        "f1 = f1_score(y_test, y_pred, average='weighted')  # Weighted for imbalanced classes\n",
        "\n",
        "# Print metrics\n",
        "print(\"Accuracy:\", accuracy)\n",
        "print(\"Precision:\", precision)\n",
        "print(\"Recall:\", recall)\n",
        "print(\"F1 Score:\", f1)\n",
        "print(\"Classification Report:\\n\", classification_report(y_test, y_pred))\n",
        "\n",
        "# Confusion Matrix\n",
        "conf_matrix = confusion_matrix(y_test, y_pred)\n",
        "print(\"Confusion Matrix:\\n\", conf_matrix)"
      ]
    },
    {
      "cell_type": "code",
      "execution_count": null,
      "metadata": {
        "id": "C7KTaQWaqMJy"
      },
      "outputs": [],
      "source": []
    }
  ],
  "metadata": {
    "colab": {
      "provenance": [],
      "include_colab_link": true
    },
    "kernelspec": {
      "display_name": "Python 3",
      "name": "python3"
    },
    "language_info": {
      "name": "python"
    }
  },
  "nbformat": 4,
  "nbformat_minor": 0
}
