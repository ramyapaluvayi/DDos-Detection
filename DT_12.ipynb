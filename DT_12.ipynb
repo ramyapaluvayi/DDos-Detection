{
  "nbformat": 4,
  "nbformat_minor": 0,
  "metadata": {
    "colab": {
      "provenance": [],
      "mount_file_id": "1d7_O4nfXD8C7VWy3Go2bkaPTreRIhi7O",
      "authorship_tag": "ABX9TyP1F2p26IynI8TtP2Re0j8+",
      "include_colab_link": true
    },
    "kernelspec": {
      "name": "python3",
      "display_name": "Python 3"
    },
    "language_info": {
      "name": "python"
    }
  },
  "cells": [
    {
      "cell_type": "markdown",
      "metadata": {
        "id": "view-in-github",
        "colab_type": "text"
      },
      "source": [
        "<a href=\"https://colab.research.google.com/github/ushasri999/Multiclass-classification-of-DDoS-attacks-in-IoT-network-using-hybrid-feature-selection-algorithm/blob/main/DT_12.ipynb\" target=\"_parent\"><img src=\"https://colab.research.google.com/assets/colab-badge.svg\" alt=\"Open In Colab\"/></a>"
      ]
    },
    {
      "cell_type": "markdown",
      "source": [
        "**12 Classes, 15 features**"
      ],
      "metadata": {
        "id": "hQY7_w_IdJ7C"
      }
    },
    {
      "cell_type": "code",
      "execution_count": null,
      "metadata": {
        "colab": {
          "base_uri": "https://localhost:8080/"
        },
        "id": "W02TRHtLbR6x",
        "outputId": "355a4488-226a-4f8a-a793-1e9de52b0382"
      },
      "outputs": [
        {
          "output_type": "stream",
          "name": "stdout",
          "text": [
            "(173777, 46)\n",
            "(173777,)\n"
          ]
        }
      ],
      "source": [
        "#5\n",
        "import pandas as pd\n",
        "import numpy as np\n",
        "from sklearn.tree import DecisionTreeClassifier\n",
        "from sklearn.model_selection import train_test_split, cross_val_score\n",
        "from sklearn.feature_selection import SelectKBest, f_classif, RFE\n",
        "from sklearn.metrics import classification_report, accuracy_score, confusion_matrix, precision_score, f1_score\n",
        "\n",
        "# Step 1: Load the filtered dataset\n",
        "df = pd.read_csv('/content/drive/MyDrive/major project/data.csv')  # Load your actual dataset here\n",
        "df_ddos = df[df['label'].str.contains('DDoS', case=False, na=False)]  # Filter DDoS labels\n",
        "\n",
        "# Step 2: Separate features and target\n",
        "X = df_ddos.drop(\"label\", axis=1, errors='ignore')  # Avoid crashing if 'label' does not exist\n",
        "y = df_ddos[\"label\"] if 'label' in df_ddos.columns else pd.Series([])  # Handle case where label is missing\n",
        "\n",
        "# Check if X and y are valid\n",
        "print(X.shape)  # Should not be empty\n",
        "print(y.shape)  # Should not be empty\n",
        "\n",
        "# Step 3: Handle categorical and missing data\n",
        "X = pd.get_dummies(X, drop_first=True)  # One-hot encode categorical features\n",
        "X.fillna(X.mean(), inplace=True)  # Fill missing values with the mean\n"
      ]
    },
    {
      "cell_type": "code",
      "source": [
        "# Step 4: Hybrid Feature Selection\n",
        "filter_selector = SelectKBest(score_func=f_classif, k=8)  # Select only top 5 features using filter method\n",
        "X_new_filter = filter_selector.fit_transform(X, y)\n",
        "filter_scores = filter_selector.scores_\n",
        "\n",
        "# Wrapper Method: Recursive Feature Elimination (RFE) with Decision Tree\n",
        "rfe_selector = RFE(estimator=DecisionTreeClassifier(random_state=42), n_features_to_select=7)  # Select 5 features\n",
        "X_new_wrapper = rfe_selector.fit_transform(X, y)\n",
        "rfe_ranking = rfe_selector.ranking_\n",
        "\n",
        "# Combine results: Select top 5 features from both methods\n",
        "top_features_filter = np.argsort(filter_scores)[-8:]  # Top 5 features from filter method\n",
        "print('top_features_filter ', top_features_filter)\n",
        "top_features_rfe = np.where(rfe_ranking == 1)[0]  # Features selected by RFE\n",
        "print('top_features_rfe ', top_features_rfe)\n",
        "top_features_combined = list(set(top_features_filter) | set(top_features_rfe))  # Combine both selections\n",
        "print('top_features_combined ', top_features_combined)\n",
        "\n",
        "# Step 5: Select top features from the dataset\n",
        "X_selected = X.iloc[:, top_features_combined]\n",
        "\n",
        "# Print the names of the selected features\n",
        "print(\"Selected Features:\", X_selected.columns.tolist())"
      ],
      "metadata": {
        "colab": {
          "base_uri": "https://localhost:8080/"
        },
        "id": "BGoAK4csb2In",
        "outputId": "18d11417-61c9-48cc-bd2a-8f10846f0d38"
      },
      "execution_count": null,
      "outputs": [
        {
          "output_type": "stream",
          "name": "stderr",
          "text": [
            "/usr/local/lib/python3.10/dist-packages/sklearn/feature_selection/_univariate_selection.py:112: UserWarning: Features [12 13 22 23 24 25 28] are constant.\n",
            "  warnings.warn(\"Features %s are constant.\" % constant_features_idx, UserWarning)\n",
            "/usr/local/lib/python3.10/dist-packages/sklearn/feature_selection/_univariate_selection.py:113: RuntimeWarning: invalid value encountered in divide\n",
            "  f = msb / msw\n"
          ]
        },
        {
          "output_type": "stream",
          "name": "stdout",
          "text": [
            "top_features_filter  [ 7 28 25 24 23 13 12 22]\n",
            "top_features_rfe  [ 1  2  7  8 17 34 39]\n",
            "top_features_combined  [1, 2, 34, 7, 8, 39, 12, 13, 17, 22, 23, 24, 25, 28]\n",
            "Selected Features: ['Header_Length', 'Protocol Type', 'Min', 'fin_flag_number', 'syn_flag_number', 'IAT', 'ece_flag_number', 'cwr_flag_number', 'urg_count', 'Telnet', 'SMTP', 'SSH', 'IRC', 'DHCP']\n"
          ]
        }
      ]
    },
    {
      "cell_type": "code",
      "source": [
        "from sklearn.metrics import recall_score\n",
        "\n",
        "# Step 6: Train and Test Split\n",
        "X_train, X_test, y_train, y_test = train_test_split(X_selected, y, test_size=0.3, random_state=42)\n",
        "\n",
        "# Step 7: Train Decision Tree Classifier\n",
        "dt_model = DecisionTreeClassifier(random_state=42)\n",
        "dt_model.fit(X_train, y_train)\n",
        "\n",
        "# Step 8: Evaluate the model\n",
        "y_pred = dt_model.predict(X_test)\n",
        "accuracy = accuracy_score(y_test, y_pred)\n",
        "precision = precision_score(y_test, y_pred, average='weighted')  # Weighted for imbalanced classes\n",
        "recall = recall_score(y_test, y_pred, average='weighted')  # Weighted for imbalanced classes\n",
        "f1 = f1_score(y_test, y_pred, average='weighted')  # Weighted for imbalanced classes\n",
        "\n",
        "# Print metrics\n",
        "print(\"Accuracy:\", accuracy)\n",
        "print(\"Precision:\", precision)\n",
        "print(\"recall:\", recall)\n",
        "print(\"F1 Score:\", f1)\n",
        "print(\"Classification Report:\\n\", classification_report(y_test, y_pred))\n",
        "\n",
        "# Confusion Matrix\n",
        "conf_matrix = confusion_matrix(y_test, y_pred)\n",
        "print(\"Confusion Matrix:\\n\", conf_matrix)"
      ],
      "metadata": {
        "colab": {
          "base_uri": "https://localhost:8080/"
        },
        "id": "qvI-vXZpcUAq",
        "outputId": "3e9b2d1c-0e92-4ca6-8346-cb8e24aa8a4b"
      },
      "execution_count": null,
      "outputs": [
        {
          "output_type": "stream",
          "name": "stdout",
          "text": [
            "Accuracy: 0.9995780105113745\n",
            "Precision: 0.9995783153181416\n",
            "recall: 0.9995780105113745\n",
            "F1 Score: 0.9995778282533108\n",
            "Classification Report:\n",
            "                          precision    recall  f1-score   support\n",
            "\n",
            " DDoS-ACK_Fragmentation       0.99      0.99      0.99       441\n",
            "        DDoS-HTTP_Flood       0.96      0.96      0.96        48\n",
            "        DDoS-ICMP_Flood       1.00      1.00      1.00     10925\n",
            "DDoS-ICMP_Fragmentation       1.00      1.00      1.00       726\n",
            "      DDoS-PSHACK_Flood       1.00      1.00      1.00      6409\n",
            "       DDoS-RSTFINFlood       1.00      1.00      1.00      6131\n",
            "         DDoS-SYN_Flood       1.00      1.00      1.00      6173\n",
            "         DDoS-SlowLoris       1.00      0.95      0.98        21\n",
            "DDoS-SynonymousIP_Flood       1.00      1.00      1.00      5436\n",
            "         DDoS-TCP_Flood       1.00      1.00      1.00      6982\n",
            "         DDoS-UDP_Flood       1.00      1.00      1.00      8369\n",
            " DDoS-UDP_Fragmentation       1.00      1.00      1.00       473\n",
            "\n",
            "               accuracy                           1.00     52134\n",
            "              macro avg       1.00      0.99      0.99     52134\n",
            "           weighted avg       1.00      1.00      1.00     52134\n",
            "\n",
            "Confusion Matrix:\n",
            " [[  438     2     0     0     1     0     0     0     0     0     0     0]\n",
            " [    1    46     0     0     0     0     0     0     1     0     0     0]\n",
            " [    0     0 10924     0     0     0     0     0     1     0     0     0]\n",
            " [    2     0     0   723     0     1     0     0     0     0     0     0]\n",
            " [    0     0     0     0  6409     0     0     0     0     0     0     0]\n",
            " [    0     0     0     0     0  6129     0     0     1     1     0     0]\n",
            " [    0     0     0     0     0     0  6170     0     2     0     1     0]\n",
            " [    0     0     0     0     0     0     0    20     1     0     0     0]\n",
            " [    0     0     0     0     0     0     0     0  5434     1     0     1]\n",
            " [    1     0     0     0     0     0     0     0     0  6981     0     0]\n",
            " [    0     0     0     0     0     0     1     0     0     0  8367     1]\n",
            " [    0     0     0     0     0     0     0     0     1     1     0   471]]\n"
          ]
        }
      ]
    },
    {
      "cell_type": "markdown",
      "source": [
        "**12 Classes, 10 features**"
      ],
      "metadata": {
        "id": "XFeZj9IOdQaC"
      }
    },
    {
      "cell_type": "code",
      "source": [
        "# Step 4: Hybrid Feature Selection\n",
        "filter_selector = SelectKBest(score_func=f_classif, k=5)  # Select only top 5 features using filter method\n",
        "X_new_filter = filter_selector.fit_transform(X, y)\n",
        "filter_scores = filter_selector.scores_\n",
        "\n",
        "# Wrapper Method: Recursive Feature Elimination (RFE) with Decision Tree\n",
        "rfe_selector = RFE(estimator=DecisionTreeClassifier(random_state=42), n_features_to_select=5)  # Select 5 features\n",
        "X_new_wrapper = rfe_selector.fit_transform(X, y)\n",
        "rfe_ranking = rfe_selector.ranking_\n",
        "\n",
        "# Combine results: Select top 5 features from both methods\n",
        "top_features_filter = np.argsort(filter_scores)[-5:]  # Top 5 features from filter method\n",
        "print('top_features_filter ', top_features_filter)\n",
        "top_features_rfe = np.where(rfe_ranking == 1)[0]  # Features selected by RFE\n",
        "print('top_features_rfe ', top_features_rfe)\n",
        "top_features_combined = list(set(top_features_filter) | set(top_features_rfe))  # Combine both selections\n",
        "print('top_features_combined ', top_features_combined)\n",
        "\n",
        "# Step 5: Select top features from the dataset\n",
        "X_selected = X.iloc[:, top_features_combined]\n",
        "\n",
        "# Print the names of the selected features\n",
        "print(\"Selected Features:\", X_selected.columns.tolist())"
      ],
      "metadata": {
        "colab": {
          "base_uri": "https://localhost:8080/"
        },
        "id": "XF5BixW5cs_1",
        "outputId": "aa3b164a-88ab-445d-993f-157a1506771e"
      },
      "execution_count": null,
      "outputs": [
        {
          "output_type": "stream",
          "name": "stderr",
          "text": [
            "/usr/local/lib/python3.10/dist-packages/sklearn/feature_selection/_univariate_selection.py:112: UserWarning: Features [12 13 22 23 24 25 28] are constant.\n",
            "  warnings.warn(\"Features %s are constant.\" % constant_features_idx, UserWarning)\n",
            "/usr/local/lib/python3.10/dist-packages/sklearn/feature_selection/_univariate_selection.py:113: RuntimeWarning: invalid value encountered in divide\n",
            "  f = msb / msw\n"
          ]
        },
        {
          "output_type": "stream",
          "name": "stdout",
          "text": [
            "top_features_filter  [24 23 13 12 22]\n",
            "top_features_rfe  [ 7  8 17 34 39]\n",
            "top_features_combined  [34, 39, 8, 7, 12, 13, 17, 22, 23, 24]\n",
            "Selected Features: ['Min', 'IAT', 'syn_flag_number', 'fin_flag_number', 'ece_flag_number', 'cwr_flag_number', 'urg_count', 'Telnet', 'SMTP', 'SSH']\n"
          ]
        }
      ]
    },
    {
      "cell_type": "code",
      "source": [
        "from sklearn.metrics import recall_score\n",
        "\n",
        "# Step 6: Train and Test Split\n",
        "X_train, X_test, y_train, y_test = train_test_split(X_selected, y, test_size=0.3, random_state=42)\n",
        "\n",
        "# Step 7: Train Decision Tree Classifier\n",
        "dt_model = DecisionTreeClassifier(random_state=42)\n",
        "dt_model.fit(X_train, y_train)\n",
        "\n",
        "# Step 8: Evaluate the model\n",
        "y_pred = dt_model.predict(X_test)\n",
        "accuracy = accuracy_score(y_test, y_pred)\n",
        "precision = precision_score(y_test, y_pred, average='weighted')  # Weighted for imbalanced classes\n",
        "recall = recall_score(y_test, y_pred, average='weighted')  # Weighted for imbalanced classes\n",
        "f1 = f1_score(y_test, y_pred, average='weighted')  # Weighted for imbalanced classes\n",
        "\n",
        "# Print metrics\n",
        "print(\"Accuracy:\", accuracy)\n",
        "print(\"Precision:\", precision)\n",
        "print(\"recall:\", recall)\n",
        "print(\"F1 Score:\", f1)\n",
        "print(\"Classification Report:\\n\", classification_report(y_test, y_pred))\n",
        "\n",
        "# Confusion Matrix\n",
        "conf_matrix = confusion_matrix(y_test, y_pred)\n",
        "print(\"Confusion Matrix:\\n\", conf_matrix)"
      ],
      "metadata": {
        "colab": {
          "base_uri": "https://localhost:8080/"
        },
        "id": "HPLywwbXdaHy",
        "outputId": "2e961b14-4afb-45b1-8c27-6b30dfddb8a3"
      },
      "execution_count": null,
      "outputs": [
        {
          "output_type": "stream",
          "name": "stdout",
          "text": [
            "Accuracy: 0.9994821038094142\n",
            "Precision: 0.9994822778394454\n",
            "recall: 0.9994821038094142\n",
            "F1 Score: 0.9994814224177551\n",
            "Classification Report:\n",
            "                          precision    recall  f1-score   support\n",
            "\n",
            " DDoS-ACK_Fragmentation       0.99      1.00      0.99       441\n",
            "        DDoS-HTTP_Flood       1.00      0.98      0.99        48\n",
            "        DDoS-ICMP_Flood       1.00      1.00      1.00     10925\n",
            "DDoS-ICMP_Fragmentation       0.99      1.00      1.00       726\n",
            "      DDoS-PSHACK_Flood       1.00      1.00      1.00      6409\n",
            "       DDoS-RSTFINFlood       1.00      1.00      1.00      6131\n",
            "         DDoS-SYN_Flood       1.00      1.00      1.00      6173\n",
            "         DDoS-SlowLoris       1.00      0.95      0.98        21\n",
            "DDoS-SynonymousIP_Flood       1.00      1.00      1.00      5436\n",
            "         DDoS-TCP_Flood       1.00      1.00      1.00      6982\n",
            "         DDoS-UDP_Flood       1.00      1.00      1.00      8369\n",
            " DDoS-UDP_Fragmentation       0.99      0.98      0.99       473\n",
            "\n",
            "               accuracy                           1.00     52134\n",
            "              macro avg       1.00      0.99      0.99     52134\n",
            "           weighted avg       1.00      1.00      1.00     52134\n",
            "\n",
            "Confusion Matrix:\n",
            " [[  440     0     0     0     0     0     0     0     0     0     0     1]\n",
            " [    0    47     1     0     0     0     0     0     0     0     0     0]\n",
            " [    0     0 10924     0     0     0     0     0     1     0     0     0]\n",
            " [    1     0     0   723     0     0     0     0     0     1     0     1]\n",
            " [    0     0     0     0  6409     0     0     0     0     0     0     0]\n",
            " [    0     0     0     0     0  6130     0     0     0     0     1     0]\n",
            " [    0     0     0     0     0     0  6170     0     2     0     1     0]\n",
            " [    0     0     0     0     0     0     0    20     1     0     0     0]\n",
            " [    0     0     0     0     0     0     2     0  5432     0     0     2]\n",
            " [    0     0     0     1     0     0     0     0     0  6981     0     0]\n",
            " [    0     0     0     0     0     0     1     0     0     1  8367     0]\n",
            " [    4     0     0     3     1     0     0     0     1     0     0   464]]\n"
          ]
        }
      ]
    },
    {
      "cell_type": "markdown",
      "source": [
        "**12 Classes, 5 features**"
      ],
      "metadata": {
        "id": "Zkat_nrLd94M"
      }
    },
    {
      "cell_type": "code",
      "source": [
        "# Step 4: Hybrid Feature Selection\n",
        "filter_selector = SelectKBest(score_func=f_classif, k=3)  # Select only top 5 features using filter method\n",
        "X_new_filter = filter_selector.fit_transform(X, y)\n",
        "filter_scores = filter_selector.scores_\n",
        "\n",
        "# Wrapper Method: Recursive Feature Elimination (RFE) with Decision Tree\n",
        "rfe_selector = RFE(estimator=DecisionTreeClassifier(random_state=42), n_features_to_select=2)  # Select 5 features\n",
        "X_new_wrapper = rfe_selector.fit_transform(X, y)\n",
        "rfe_ranking = rfe_selector.ranking_\n",
        "\n",
        "# Combine results: Select top 5 features from both methods\n",
        "top_features_filter = np.argsort(filter_scores)[-3:]  # Top 5 features from filter method\n",
        "print('top_features_filter ', top_features_filter)\n",
        "top_features_rfe = np.where(rfe_ranking == 1)[0]  # Features selected by RFE\n",
        "print('top_features_rfe ', top_features_rfe)\n",
        "top_features_combined = list(set(top_features_filter) | set(top_features_rfe))  # Combine both selections\n",
        "print('top_features_combined ', top_features_combined)\n",
        "\n",
        "# Step 5: Select top features from the dataset\n",
        "X_selected = X.iloc[:, top_features_combined]\n",
        "\n",
        "# Print the names of the selected features\n",
        "print(\"Selected Features:\", X_selected.columns.tolist())"
      ],
      "metadata": {
        "colab": {
          "base_uri": "https://localhost:8080/"
        },
        "id": "Klp9fJoFd7ST",
        "outputId": "60df7171-22c5-41a1-aaba-828fa4d674e8"
      },
      "execution_count": null,
      "outputs": [
        {
          "output_type": "stream",
          "name": "stderr",
          "text": [
            "/usr/local/lib/python3.10/dist-packages/sklearn/feature_selection/_univariate_selection.py:112: UserWarning: Features [12 13 22 23 24 25 28] are constant.\n",
            "  warnings.warn(\"Features %s are constant.\" % constant_features_idx, UserWarning)\n",
            "/usr/local/lib/python3.10/dist-packages/sklearn/feature_selection/_univariate_selection.py:113: RuntimeWarning: invalid value encountered in divide\n",
            "  f = msb / msw\n"
          ]
        },
        {
          "output_type": "stream",
          "name": "stdout",
          "text": [
            "top_features_filter  [13 12 22]\n",
            "top_features_rfe  [34 39]\n",
            "top_features_combined  [34, 22, 39, 12, 13]\n",
            "Selected Features: ['Min', 'Telnet', 'IAT', 'ece_flag_number', 'cwr_flag_number']\n"
          ]
        }
      ]
    },
    {
      "cell_type": "code",
      "source": [
        "from sklearn.metrics import recall_score\n",
        "\n",
        "# Step 6: Train and Test Split\n",
        "X_train, X_test, y_train, y_test = train_test_split(X_selected, y, test_size=0.3, random_state=42)\n",
        "\n",
        "# Step 7: Train Decision Tree Classifier\n",
        "dt_model = DecisionTreeClassifier(random_state=42)\n",
        "dt_model.fit(X_train, y_train)\n",
        "\n",
        "# Step 8: Evaluate the model\n",
        "y_pred = dt_model.predict(X_test)\n",
        "accuracy = accuracy_score(y_test, y_pred)\n",
        "precision = precision_score(y_test, y_pred, average='weighted')  # Weighted for imbalanced classes\n",
        "recall = recall_score(y_test, y_pred, average='weighted')  # Weighted for imbalanced classes\n",
        "f1 = f1_score(y_test, y_pred, average='weighted')  # Weighted for imbalanced classes\n",
        "\n",
        "# Print metrics\n",
        "print(\"Accuracy:\", accuracy)\n",
        "print(\"Precision:\", precision)\n",
        "print(\"recall:\", recall)\n",
        "print(\"F1 Score:\", f1)\n",
        "print(\"Classification Report:\\n\", classification_report(y_test, y_pred))\n",
        "\n",
        "# Confusion Matrix\n",
        "conf_matrix = confusion_matrix(y_test, y_pred)\n",
        "print(\"Confusion Matrix:\\n\", conf_matrix)"
      ],
      "metadata": {
        "colab": {
          "base_uri": "https://localhost:8080/"
        },
        "id": "oy9Hw-pceMV8",
        "outputId": "a8e48f0f-6fc3-4926-900f-3020fd995e8b"
      },
      "execution_count": null,
      "outputs": [
        {
          "output_type": "stream",
          "name": "stdout",
          "text": [
            "Accuracy: 0.9994629224690221\n",
            "Precision: 0.9994634930402503\n",
            "recall: 0.9994629224690221\n",
            "F1 Score: 0.9994622755188299\n",
            "Classification Report:\n",
            "                          precision    recall  f1-score   support\n",
            "\n",
            " DDoS-ACK_Fragmentation       0.99      1.00      0.99       441\n",
            "        DDoS-HTTP_Flood       1.00      1.00      1.00        48\n",
            "        DDoS-ICMP_Flood       1.00      1.00      1.00     10925\n",
            "DDoS-ICMP_Fragmentation       0.99      1.00      0.99       726\n",
            "      DDoS-PSHACK_Flood       1.00      1.00      1.00      6409\n",
            "       DDoS-RSTFINFlood       1.00      1.00      1.00      6131\n",
            "         DDoS-SYN_Flood       1.00      1.00      1.00      6173\n",
            "         DDoS-SlowLoris       1.00      0.95      0.98        21\n",
            "DDoS-SynonymousIP_Flood       1.00      1.00      1.00      5436\n",
            "         DDoS-TCP_Flood       1.00      1.00      1.00      6982\n",
            "         DDoS-UDP_Flood       1.00      1.00      1.00      8369\n",
            " DDoS-UDP_Fragmentation       1.00      0.98      0.99       473\n",
            "\n",
            "               accuracy                           1.00     52134\n",
            "              macro avg       1.00      0.99      1.00     52134\n",
            "           weighted avg       1.00      1.00      1.00     52134\n",
            "\n",
            "Confusion Matrix:\n",
            " [[  440     0     0     0     0     0     0     0     0     0     0     1]\n",
            " [    0    48     0     0     0     0     0     0     0     0     0     0]\n",
            " [    0     0 10924     0     0     0     0     0     0     0     1     0]\n",
            " [    1     0     0   723     0     0     1     0     0     0     0     1]\n",
            " [    0     0     0     0  6407     1     0     0     1     0     0     0]\n",
            " [    0     0     0     0     0  6131     0     0     0     0     0     0]\n",
            " [    0     0     0     0     1     0  6170     0     1     0     1     0]\n",
            " [    0     0     0     0     0     0     0    20     1     0     0     0]\n",
            " [    0     0     0     0     2     0     0     0  5432     1     1     0]\n",
            " [    0     0     0     1     0     0     0     0     0  6981     0     0]\n",
            " [    0     0     0     0     0     0     2     0     1     0  8366     0]\n",
            " [    4     0     0     4     0     0     0     0     0     0     1   464]]\n"
          ]
        }
      ]
    },
    {
      "cell_type": "code",
      "source": [],
      "metadata": {
        "id": "BUUWxVSned8k"
      },
      "execution_count": null,
      "outputs": []
    }
  ]
}