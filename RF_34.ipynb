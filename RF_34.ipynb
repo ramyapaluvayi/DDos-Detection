{
  "cells": [
    {
      "cell_type": "markdown",
      "metadata": {
        "id": "view-in-github",
        "colab_type": "text"
      },
      "source": [
        "<a href=\"https://colab.research.google.com/github/ushasri999/Multiclass-classification-of-DDoS-attacks-in-IoT-network-using-hybrid-feature-selection-algorithm/blob/main/RF_34.ipynb\" target=\"_parent\"><img src=\"https://colab.research.google.com/assets/colab-badge.svg\" alt=\"Open In Colab\"/></a>"
      ]
    },
    {
      "cell_type": "markdown",
      "metadata": {
        "id": "AYT0K41c92bo"
      },
      "source": [
        "**34 classes, 15 features**"
      ]
    },
    {
      "cell_type": "code",
      "execution_count": null,
      "metadata": {
        "colab": {
          "base_uri": "https://localhost:8080/"
        },
        "id": "I_2aO-Y_91fA",
        "outputId": "10ad1cee-8f1d-47ce-a010-112c6d8c1958"
      },
      "outputs": [
        {
          "name": "stdout",
          "output_type": "stream",
          "text": [
            "(238687, 46)\n",
            "(238687,)\n"
          ]
        }
      ],
      "source": [
        "#5\n",
        "import pandas as pd\n",
        "import numpy as np\n",
        "from sklearn.ensemble import RandomForestClassifier\n",
        "from sklearn.model_selection import train_test_split, cross_val_score\n",
        "from sklearn.feature_selection import SelectKBest, f_classif, RFE\n",
        "from sklearn.metrics import classification_report, accuracy_score, confusion_matrix\n",
        "\n",
        "# Step 1: Load the filtered dataset\n",
        "df = pd.read_csv('/content/drive/MyDrive/major project/data.csv')  # Load your actual dataset here\n",
        "\n",
        "# Step 2: Separate features and target\n",
        "X = df.drop(\"label\", axis=1, errors='ignore')  # Avoid crashing if 'label' does not exist\n",
        "y = df[\"label\"] if 'label' in df.columns else pd.Series([])  # Handle case where label is missing\n",
        "\n",
        "# Check if X and y are valid\n",
        "print(X.shape)  # Should not be empty\n",
        "print(y.shape)  # Should not be empty\n",
        "\n",
        "# Step 3: Handle categorical and missing data\n",
        "X = pd.get_dummies(X, drop_first=True)  # One-hot encode categorical features\n",
        "X.fillna(X.mean(), inplace=True)  # Fill missing values with the mean"
      ]
    },
    {
      "cell_type": "code",
      "execution_count": null,
      "metadata": {
        "colab": {
          "base_uri": "https://localhost:8080/"
        },
        "id": "LPpbUk_E-Cw9",
        "outputId": "d7d60593-c745-44be-dffb-4d8aadab73db"
      },
      "outputs": [
        {
          "name": "stderr",
          "output_type": "stream",
          "text": [
            "/usr/local/lib/python3.10/dist-packages/sklearn/feature_selection/_univariate_selection.py:112: UserWarning: Features [12 13 22 23 25 28] are constant.\n",
            "  warnings.warn(\"Features %s are constant.\" % constant_features_idx, UserWarning)\n",
            "/usr/local/lib/python3.10/dist-packages/sklearn/feature_selection/_univariate_selection.py:113: RuntimeWarning: invalid value encountered in divide\n",
            "  f = msb / msw\n"
          ]
        },
        {
          "name": "stdout",
          "output_type": "stream",
          "text": [
            "top_features_filter  [30  7 28 23 13 12 25 22]\n",
            "top_features_rfe  [ 1  8 34 36 38 39 41]\n",
            "top_features_combined  [1, 34, 36, 38, 7, 39, 8, 41, 12, 13, 22, 23, 25, 28, 30]\n",
            "Selected Features: ['Header_Length', 'Min', 'AVG', 'Tot size', 'fin_flag_number', 'IAT', 'syn_flag_number', 'Magnitue', 'ece_flag_number', 'cwr_flag_number', 'Telnet', 'SMTP', 'IRC', 'DHCP', 'ICMP']\n"
          ]
        }
      ],
      "source": [
        "# Step 4: Hybrid Feature Selection\n",
        "filter_selector = SelectKBest(score_func=f_classif, k=8)  # Select only top 5 features using filter method\n",
        "X_new_filter = filter_selector.fit_transform(X, y)\n",
        "filter_scores = filter_selector.scores_\n",
        "\n",
        "# Wrapper Method: Recursive Feature Elimination (RFE) with Random Forest\n",
        "rfe_selector = RFE(estimator=RandomForestClassifier(), n_features_to_select=7)  # Select 5 features\n",
        "X_new_wrapper = rfe_selector.fit_transform(X, y)\n",
        "rfe_ranking = rfe_selector.ranking_\n",
        "\n",
        "# Combine results: Select top 5 features from both methods\n",
        "top_features_filter = np.argsort(filter_scores)[-8:]  # Top 5 features from filter method\n",
        "print('top_features_filter ', top_features_filter)\n",
        "top_features_rfe = np.where(rfe_ranking == 1)[0]  # Features selected by RFE\n",
        "print('top_features_rfe ', top_features_rfe)\n",
        "top_features_combined = list(set(top_features_filter) | set(top_features_rfe))  # Combine both selections\n",
        "print('top_features_combined ', top_features_combined)\n",
        "\n",
        "# Step 5: Select top features from the dataset\n",
        "X_selected = X.iloc[:, top_features_combined]\n",
        "\n",
        "# Print the names of the selected features\n",
        "print(\"Selected Features:\", X_selected.columns.tolist())\n"
      ]
    },
    {
      "cell_type": "code",
      "execution_count": null,
      "metadata": {
        "colab": {
          "base_uri": "https://localhost:8080/"
        },
        "id": "iegqtJK1-DWl",
        "outputId": "cc82c846-1c81-455d-a2c1-26134c3578eb"
      },
      "outputs": [
        {
          "name": "stderr",
          "output_type": "stream",
          "text": [
            "/usr/local/lib/python3.10/dist-packages/sklearn/metrics/_classification.py:1531: UndefinedMetricWarning: Precision is ill-defined and being set to 0.0 in labels with no predicted samples. Use `zero_division` parameter to control this behavior.\n",
            "  _warn_prf(average, modifier, f\"{metric.capitalize()} is\", len(result))\n"
          ]
        },
        {
          "name": "stdout",
          "output_type": "stream",
          "text": [
            "Accuracy: 0.990224419400338\n",
            "Precision: 0.9895425589448519\n",
            "Recall: 0.990224419400338\n",
            "F1 Score: 0.9894958547608352\n"
          ]
        },
        {
          "name": "stderr",
          "output_type": "stream",
          "text": [
            "/usr/local/lib/python3.10/dist-packages/sklearn/metrics/_classification.py:1531: UndefinedMetricWarning: Precision is ill-defined and being set to 0.0 in labels with no predicted samples. Use `zero_division` parameter to control this behavior.\n",
            "  _warn_prf(average, modifier, f\"{metric.capitalize()} is\", len(result))\n",
            "/usr/local/lib/python3.10/dist-packages/sklearn/metrics/_classification.py:1531: UndefinedMetricWarning: Precision is ill-defined and being set to 0.0 in labels with no predicted samples. Use `zero_division` parameter to control this behavior.\n",
            "  _warn_prf(average, modifier, f\"{metric.capitalize()} is\", len(result))\n",
            "/usr/local/lib/python3.10/dist-packages/sklearn/metrics/_classification.py:1531: UndefinedMetricWarning: Precision is ill-defined and being set to 0.0 in labels with no predicted samples. Use `zero_division` parameter to control this behavior.\n",
            "  _warn_prf(average, modifier, f\"{metric.capitalize()} is\", len(result))\n"
          ]
        },
        {
          "name": "stdout",
          "output_type": "stream",
          "text": [
            "Classification Report:\n",
            "                          precision    recall  f1-score   support\n",
            "\n",
            "       Backdoor_Malware       0.00      0.00      0.00         4\n",
            "          BenignTraffic       0.82      0.97      0.88      1667\n",
            "       BrowserHijacking       0.00      0.00      0.00         8\n",
            "       CommandInjection       0.00      0.00      0.00         6\n",
            " DDoS-ACK_Fragmentation       0.99      0.98      0.99       463\n",
            "        DDoS-HTTP_Flood       0.73      0.90      0.81        52\n",
            "        DDoS-ICMP_Flood       1.00      1.00      1.00     11141\n",
            "DDoS-ICMP_Fragmentation       0.98      0.99      0.99       685\n",
            "      DDoS-PSHACK_Flood       1.00      1.00      1.00      6319\n",
            "       DDoS-RSTFINFlood       1.00      1.00      1.00      6238\n",
            "         DDoS-SYN_Flood       1.00      1.00      1.00      6261\n",
            "         DDoS-SlowLoris       0.76      0.62      0.68        40\n",
            "DDoS-SynonymousIP_Flood       1.00      1.00      1.00      5354\n",
            "         DDoS-TCP_Flood       1.00      1.00      1.00      6929\n",
            "         DDoS-UDP_Flood       1.00      1.00      1.00      8402\n",
            " DDoS-UDP_Fragmentation       0.98      0.99      0.98       450\n",
            "           DNS_Spoofing       0.76      0.55      0.64       267\n",
            "   DictionaryBruteForce       0.00      0.00      0.00        16\n",
            "         DoS-HTTP_Flood       0.96      0.97      0.96       116\n",
            "          DoS-SYN_Flood       1.00      1.00      1.00      3034\n",
            "          DoS-TCP_Flood       1.00      1.00      1.00      4069\n",
            "          DoS-UDP_Flood       1.00      1.00      1.00      4992\n",
            "       MITM-ArpSpoofing       0.83      0.72      0.77       481\n",
            "     Mirai-greeth_flood       1.00      1.00      1.00      1502\n",
            "      Mirai-greip_flood       1.00      0.99      0.99      1143\n",
            "         Mirai-udpplain       1.00      1.00      1.00      1369\n",
            "    Recon-HostDiscovery       0.84      0.75      0.79       215\n",
            "           Recon-OSScan       0.77      0.48      0.59       165\n",
            "        Recon-PingSweep       0.00      0.00      0.00         1\n",
            "         Recon-PortScan       0.77      0.48      0.59       116\n",
            "           SqlInjection       0.00      0.00      0.00        13\n",
            "       Uploading_Attack       0.00      0.00      0.00         2\n",
            "      VulnerabilityScan       0.86      0.90      0.88        80\n",
            "                    XSS       0.00      0.00      0.00         7\n",
            "\n",
            "               accuracy                           0.99     71607\n",
            "              macro avg       0.71      0.68      0.69     71607\n",
            "           weighted avg       0.99      0.99      0.99     71607\n",
            "\n",
            "Confusion Matrix:\n",
            " [[   0    0    0 ...    0    0    0]\n",
            " [   0 1613    1 ...    0    0    0]\n",
            " [   0    3    0 ...    0    0    0]\n",
            " ...\n",
            " [   0    0    0 ...    0    0    0]\n",
            " [   0    0    0 ...    0   72    0]\n",
            " [   0    2    0 ...    0    0    0]]\n",
            "Cross-validation Accuracy: 0.9900916274119368\n"
          ]
        }
      ],
      "source": [
        "# Step 6: Train and Test Split\n",
        "from sklearn.metrics import precision_score, recall_score, f1_score, confusion_matrix\n",
        "X_train, X_test, y_train, y_test = train_test_split(X_selected, y, test_size=0.3, random_state=42)\n",
        "\n",
        "# Step 7: Train Random Forest Classifier\n",
        "rf_model = RandomForestClassifier(random_state=42)\n",
        "rf_model.fit(X_train, y_train)\n",
        "\n",
        "# Step 8: Evaluate the model\n",
        "y_pred = rf_model.predict(X_test)\n",
        "# Metrics\n",
        "accuracy = accuracy_score(y_test, y_pred)\n",
        "precision = precision_score(y_test, y_pred, average='weighted')  # Weighted for imbalanced classes\n",
        "recall = recall_score(y_test, y_pred, average='weighted')  # Weighted for imbalanced classes\n",
        "f1 = f1_score(y_test, y_pred, average='weighted')  # Weighted for imbalanced classes\n",
        "\n",
        "# Print metrics\n",
        "print(\"Accuracy:\", accuracy)\n",
        "print(\"Precision:\", precision)\n",
        "print(\"Recall:\", recall)\n",
        "print(\"F1 Score:\", f1)\n",
        "print(\"Classification Report:\\n\", classification_report(y_test, y_pred))\n",
        "\n",
        "# Confusion Matrix\n",
        "conf_matrix = confusion_matrix(y_test, y_pred)\n",
        "print(\"Confusion Matrix:\\n\", conf_matrix)\n",
        "\n",
        "# Step 9: Cross-validation (optional)\n",
        "cv_scores = cross_val_score(rf_model, X_selected, y, cv=5)\n",
        "print(\"Cross-validation Accuracy:\", np.mean(cv_scores))"
      ]
    },
    {
      "cell_type": "markdown",
      "metadata": {
        "id": "rOnCJApR-GsB"
      },
      "source": [
        "**34 classes, 10 features**"
      ]
    },
    {
      "cell_type": "code",
      "execution_count": null,
      "metadata": {
        "colab": {
          "base_uri": "https://localhost:8080/"
        },
        "id": "l2AiO4GG-GCF",
        "outputId": "83ffbc80-10f3-422d-a931-8c81c870a398"
      },
      "outputs": [
        {
          "name": "stderr",
          "output_type": "stream",
          "text": [
            "/usr/local/lib/python3.10/dist-packages/sklearn/feature_selection/_univariate_selection.py:112: UserWarning: Features [12 13 22 23 25 28] are constant.\n",
            "  warnings.warn(\"Features %s are constant.\" % constant_features_idx, UserWarning)\n",
            "/usr/local/lib/python3.10/dist-packages/sklearn/feature_selection/_univariate_selection.py:113: RuntimeWarning: invalid value encountered in divide\n",
            "  f = msb / msw\n"
          ]
        },
        {
          "name": "stdout",
          "output_type": "stream",
          "text": [
            "top_features_filter  [23 13 12 25 22]\n",
            "top_features_rfe  [15 34 38 39 41]\n",
            "top_features_combined  [34, 38, 39, 41, 12, 13, 15, 22, 23, 25]\n",
            "Selected Features: ['Min', 'Tot size', 'IAT', 'Magnitue', 'ece_flag_number', 'cwr_flag_number', 'syn_count', 'Telnet', 'SMTP', 'IRC']\n"
          ]
        }
      ],
      "source": [
        "# Step 4: Hybrid Feature Selection\n",
        "filter_selector = SelectKBest(score_func=f_classif, k=5)  # Select only top 5 features using filter method\n",
        "X_new_filter = filter_selector.fit_transform(X, y)\n",
        "filter_scores = filter_selector.scores_\n",
        "\n",
        "# Wrapper Method: Recursive Feature Elimination (RFE) with Random Forest\n",
        "rfe_selector = RFE(estimator=RandomForestClassifier(), n_features_to_select=5)  # Select 5 features\n",
        "X_new_wrapper = rfe_selector.fit_transform(X, y)\n",
        "rfe_ranking = rfe_selector.ranking_\n",
        "\n",
        "# Combine results: Select top 5 features from both methods\n",
        "top_features_filter = np.argsort(filter_scores)[-5:]  # Top 5 features from filter method\n",
        "print('top_features_filter ', top_features_filter)\n",
        "top_features_rfe = np.where(rfe_ranking == 1)[0]  # Features selected by RFE\n",
        "print('top_features_rfe ', top_features_rfe)\n",
        "top_features_combined = list(set(top_features_filter) | set(top_features_rfe))  # Combine both selections\n",
        "print('top_features_combined ', top_features_combined)\n",
        "\n",
        "# Step 5: Select top features from the dataset\n",
        "X_selected = X.iloc[:, top_features_combined]\n",
        "\n",
        "# Print the names of the selected features\n",
        "print(\"Selected Features:\", X_selected.columns.tolist())\n"
      ]
    },
    {
      "cell_type": "code",
      "execution_count": null,
      "metadata": {
        "colab": {
          "base_uri": "https://localhost:8080/"
        },
        "id": "_CgIlcVI-bT6",
        "outputId": "2212e66f-2f0b-4fbd-839b-b4507d1f9b16"
      },
      "outputs": [
        {
          "name": "stderr",
          "output_type": "stream",
          "text": [
            "/usr/local/lib/python3.10/dist-packages/sklearn/metrics/_classification.py:1531: UndefinedMetricWarning: Precision is ill-defined and being set to 0.0 in labels with no predicted samples. Use `zero_division` parameter to control this behavior.\n",
            "  _warn_prf(average, modifier, f\"{metric.capitalize()} is\", len(result))\n"
          ]
        },
        {
          "name": "stdout",
          "output_type": "stream",
          "text": [
            "Accuracy: 0.99111818676945\n",
            "Precision: 0.9908117867962567\n",
            "Recall: 0.99111818676945\n",
            "F1 Score: 0.9904936878357297\n"
          ]
        },
        {
          "name": "stderr",
          "output_type": "stream",
          "text": [
            "/usr/local/lib/python3.10/dist-packages/sklearn/metrics/_classification.py:1531: UndefinedMetricWarning: Precision is ill-defined and being set to 0.0 in labels with no predicted samples. Use `zero_division` parameter to control this behavior.\n",
            "  _warn_prf(average, modifier, f\"{metric.capitalize()} is\", len(result))\n",
            "/usr/local/lib/python3.10/dist-packages/sklearn/metrics/_classification.py:1531: UndefinedMetricWarning: Precision is ill-defined and being set to 0.0 in labels with no predicted samples. Use `zero_division` parameter to control this behavior.\n",
            "  _warn_prf(average, modifier, f\"{metric.capitalize()} is\", len(result))\n",
            "/usr/local/lib/python3.10/dist-packages/sklearn/metrics/_classification.py:1531: UndefinedMetricWarning: Precision is ill-defined and being set to 0.0 in labels with no predicted samples. Use `zero_division` parameter to control this behavior.\n",
            "  _warn_prf(average, modifier, f\"{metric.capitalize()} is\", len(result))\n"
          ]
        },
        {
          "name": "stdout",
          "output_type": "stream",
          "text": [
            "Classification Report:\n",
            "                          precision    recall  f1-score   support\n",
            "\n",
            "       Backdoor_Malware       0.00      0.00      0.00         4\n",
            "          BenignTraffic       0.82      0.96      0.88      1667\n",
            "       BrowserHijacking       1.00      0.12      0.22         8\n",
            "       CommandInjection       0.00      0.00      0.00         6\n",
            " DDoS-ACK_Fragmentation       0.98      0.98      0.98       463\n",
            "        DDoS-HTTP_Flood       0.84      0.98      0.90        52\n",
            "        DDoS-ICMP_Flood       1.00      1.00      1.00     11141\n",
            "DDoS-ICMP_Fragmentation       0.99      1.00      0.99       685\n",
            "      DDoS-PSHACK_Flood       1.00      1.00      1.00      6319\n",
            "       DDoS-RSTFINFlood       1.00      1.00      1.00      6238\n",
            "         DDoS-SYN_Flood       1.00      1.00      1.00      6261\n",
            "         DDoS-SlowLoris       0.94      0.85      0.89        40\n",
            "DDoS-SynonymousIP_Flood       1.00      1.00      1.00      5354\n",
            "         DDoS-TCP_Flood       1.00      1.00      1.00      6929\n",
            "         DDoS-UDP_Flood       1.00      1.00      1.00      8402\n",
            " DDoS-UDP_Fragmentation       0.98      0.98      0.98       450\n",
            "           DNS_Spoofing       0.75      0.57      0.65       267\n",
            "   DictionaryBruteForce       1.00      0.06      0.12        16\n",
            "         DoS-HTTP_Flood       0.95      1.00      0.97       116\n",
            "          DoS-SYN_Flood       1.00      1.00      1.00      3034\n",
            "          DoS-TCP_Flood       1.00      1.00      1.00      4069\n",
            "          DoS-UDP_Flood       1.00      1.00      1.00      4992\n",
            "       MITM-ArpSpoofing       0.82      0.74      0.78       481\n",
            "     Mirai-greeth_flood       1.00      1.00      1.00      1502\n",
            "      Mirai-greip_flood       1.00      1.00      1.00      1143\n",
            "         Mirai-udpplain       1.00      1.00      1.00      1369\n",
            "    Recon-HostDiscovery       0.85      0.74      0.79       215\n",
            "           Recon-OSScan       0.78      0.50      0.61       165\n",
            "        Recon-PingSweep       0.00      0.00      0.00         1\n",
            "         Recon-PortScan       0.82      0.51      0.63       116\n",
            "           SqlInjection       0.00      0.00      0.00        13\n",
            "       Uploading_Attack       0.00      0.00      0.00         2\n",
            "      VulnerabilityScan       0.97      0.96      0.97        80\n",
            "                    XSS       0.00      0.00      0.00         7\n",
            "\n",
            "               accuracy                           0.99     71607\n",
            "              macro avg       0.78      0.70      0.72     71607\n",
            "           weighted avg       0.99      0.99      0.99     71607\n",
            "\n",
            "Confusion Matrix:\n",
            " [[   0    0    0 ...    0    0    0]\n",
            " [   0 1603    0 ...    0    0    0]\n",
            " [   0    4    1 ...    0    0    0]\n",
            " ...\n",
            " [   0    1    0 ...    0    0    0]\n",
            " [   0    0    0 ...    0   77    0]\n",
            " [   0    5    0 ...    0    0    0]]\n",
            "Cross-validation Accuracy: 0.9906027550142895\n"
          ]
        }
      ],
      "source": [
        "# Step 6: Train and Test Split\n",
        "from sklearn.metrics import precision_score, recall_score, f1_score, confusion_matrix\n",
        "X_train, X_test, y_train, y_test = train_test_split(X_selected, y, test_size=0.3, random_state=42)\n",
        "\n",
        "# Step 7: Train Random Forest Classifier\n",
        "rf_model = RandomForestClassifier(random_state=42)\n",
        "rf_model.fit(X_train, y_train)\n",
        "\n",
        "# Step 8: Evaluate the model\n",
        "y_pred = rf_model.predict(X_test)\n",
        "# Metrics\n",
        "accuracy = accuracy_score(y_test, y_pred)\n",
        "precision = precision_score(y_test, y_pred, average='weighted')  # Weighted for imbalanced classes\n",
        "recall = recall_score(y_test, y_pred, average='weighted')  # Weighted for imbalanced classes\n",
        "f1 = f1_score(y_test, y_pred, average='weighted')  # Weighted for imbalanced classes\n",
        "\n",
        "# Print metrics\n",
        "print(\"Accuracy:\", accuracy)\n",
        "print(\"Precision:\", precision)\n",
        "print(\"Recall:\", recall)\n",
        "print(\"F1 Score:\", f1)\n",
        "print(\"Classification Report:\\n\", classification_report(y_test, y_pred))\n",
        "\n",
        "# Confusion Matrix\n",
        "conf_matrix = confusion_matrix(y_test, y_pred)\n",
        "print(\"Confusion Matrix:\\n\", conf_matrix)\n",
        "\n",
        "# Step 9: Cross-validation (optional)\n",
        "cv_scores = cross_val_score(rf_model, X_selected, y, cv=5)\n",
        "print(\"Cross-validation Accuracy:\", np.mean(cv_scores))"
      ]
    },
    {
      "cell_type": "markdown",
      "metadata": {
        "id": "VhKXKtW2-d8b"
      },
      "source": [
        "**34 classes, 5 features**"
      ]
    },
    {
      "cell_type": "code",
      "execution_count": null,
      "metadata": {
        "colab": {
          "background_save": true,
          "base_uri": "https://localhost:8080/"
        },
        "id": "beRAaF5A-dTc",
        "outputId": "40fbd36e-bd2a-439a-a5a3-aa973f473331"
      },
      "outputs": [
        {
          "name": "stderr",
          "output_type": "stream",
          "text": [
            "/usr/local/lib/python3.10/dist-packages/sklearn/feature_selection/_univariate_selection.py:112: UserWarning: Features [12 13 22 23 25 28] are constant.\n",
            "  warnings.warn(\"Features %s are constant.\" % constant_features_idx, UserWarning)\n",
            "/usr/local/lib/python3.10/dist-packages/sklearn/feature_selection/_univariate_selection.py:113: RuntimeWarning: invalid value encountered in divide\n",
            "  f = msb / msw\n"
          ]
        },
        {
          "name": "stdout",
          "output_type": "stream",
          "text": [
            "top_features_filter  [12 25 22]\n",
            "top_features_rfe  [39 41]\n",
            "top_features_combined  [22, 39, 25, 12, 41]\n",
            "Selected Features: ['Telnet', 'IAT', 'IRC', 'ece_flag_number', 'Magnitue']\n"
          ]
        }
      ],
      "source": [
        "# Step 4: Hybrid Feature Selection\n",
        "filter_selector = SelectKBest(score_func=f_classif, k=3)  # Select only top 5 features using filter method\n",
        "X_new_filter = filter_selector.fit_transform(X, y)\n",
        "filter_scores = filter_selector.scores_\n",
        "\n",
        "# Wrapper Method: Recursive Feature Elimination (RFE) with Random Forest\n",
        "rfe_selector = RFE(estimator=RandomForestClassifier(), n_features_to_select=2)  # Select 5 features\n",
        "X_new_wrapper = rfe_selector.fit_transform(X, y)\n",
        "rfe_ranking = rfe_selector.ranking_\n",
        "\n",
        "# Combine results: Select top 5 features from both methods\n",
        "top_features_filter = np.argsort(filter_scores)[-3:]  # Top 5 features from filter method\n",
        "print('top_features_filter ', top_features_filter)\n",
        "top_features_rfe = np.where(rfe_ranking == 1)[0]  # Features selected by RFE\n",
        "print('top_features_rfe ', top_features_rfe)\n",
        "top_features_combined = list(set(top_features_filter) | set(top_features_rfe))  # Combine both selections\n",
        "print('top_features_combined ', top_features_combined)\n",
        "\n",
        "# Step 5: Select top features from the dataset\n",
        "X_selected = X.iloc[:, top_features_combined]\n",
        "\n",
        "# Print the names of the selected features\n",
        "print(\"Selected Features:\", X_selected.columns.tolist())\n"
      ]
    },
    {
      "cell_type": "code",
      "execution_count": null,
      "metadata": {
        "colab": {
          "background_save": true
        },
        "id": "In5rAFZA-jOl",
        "outputId": "3a6a11cf-1f0b-481b-d7e2-badfce45691c"
      },
      "outputs": [
        {
          "name": "stderr",
          "output_type": "stream",
          "text": [
            "/usr/local/lib/python3.10/dist-packages/sklearn/metrics/_classification.py:1531: UndefinedMetricWarning: Precision is ill-defined and being set to 0.0 in labels with no predicted samples. Use `zero_division` parameter to control this behavior.\n",
            "  _warn_prf(average, modifier, f\"{metric.capitalize()} is\", len(result))\n"
          ]
        },
        {
          "name": "stdout",
          "output_type": "stream",
          "text": [
            "Accuracy: 0.990559582163755\n",
            "Precision: 0.9903493089521479\n",
            "Recall: 0.990559582163755\n",
            "F1 Score: 0.9901937233497596\n"
          ]
        },
        {
          "name": "stderr",
          "output_type": "stream",
          "text": [
            "/usr/local/lib/python3.10/dist-packages/sklearn/metrics/_classification.py:1531: UndefinedMetricWarning: Precision is ill-defined and being set to 0.0 in labels with no predicted samples. Use `zero_division` parameter to control this behavior.\n",
            "  _warn_prf(average, modifier, f\"{metric.capitalize()} is\", len(result))\n",
            "/usr/local/lib/python3.10/dist-packages/sklearn/metrics/_classification.py:1531: UndefinedMetricWarning: Precision is ill-defined and being set to 0.0 in labels with no predicted samples. Use `zero_division` parameter to control this behavior.\n",
            "  _warn_prf(average, modifier, f\"{metric.capitalize()} is\", len(result))\n",
            "/usr/local/lib/python3.10/dist-packages/sklearn/metrics/_classification.py:1531: UndefinedMetricWarning: Precision is ill-defined and being set to 0.0 in labels with no predicted samples. Use `zero_division` parameter to control this behavior.\n",
            "  _warn_prf(average, modifier, f\"{metric.capitalize()} is\", len(result))\n"
          ]
        },
        {
          "name": "stdout",
          "output_type": "stream",
          "text": [
            "Classification Report:\n",
            "                          precision    recall  f1-score   support\n",
            "\n",
            "       Backdoor_Malware       0.50      0.75      0.60         4\n",
            "          BenignTraffic       0.81      0.93      0.87      1667\n",
            "       BrowserHijacking       0.67      0.25      0.36         8\n",
            "       CommandInjection       0.33      0.50      0.40         6\n",
            " DDoS-ACK_Fragmentation       0.99      0.99      0.99       463\n",
            "        DDoS-HTTP_Flood       1.00      1.00      1.00        52\n",
            "        DDoS-ICMP_Flood       1.00      1.00      1.00     11141\n",
            "DDoS-ICMP_Fragmentation       1.00      1.00      1.00       685\n",
            "      DDoS-PSHACK_Flood       1.00      1.00      1.00      6319\n",
            "       DDoS-RSTFINFlood       1.00      1.00      1.00      6238\n",
            "         DDoS-SYN_Flood       1.00      1.00      1.00      6261\n",
            "         DDoS-SlowLoris       1.00      1.00      1.00        40\n",
            "DDoS-SynonymousIP_Flood       1.00      1.00      1.00      5354\n",
            "         DDoS-TCP_Flood       1.00      1.00      1.00      6929\n",
            "         DDoS-UDP_Flood       1.00      1.00      1.00      8402\n",
            " DDoS-UDP_Fragmentation       0.99      0.99      0.99       450\n",
            "           DNS_Spoofing       0.67      0.57      0.61       267\n",
            "   DictionaryBruteForce       0.90      0.56      0.69        16\n",
            "         DoS-HTTP_Flood       0.99      1.00      1.00       116\n",
            "          DoS-SYN_Flood       1.00      1.00      1.00      3034\n",
            "          DoS-TCP_Flood       1.00      1.00      1.00      4069\n",
            "          DoS-UDP_Flood       1.00      1.00      1.00      4992\n",
            "       MITM-ArpSpoofing       0.76      0.68      0.72       481\n",
            "     Mirai-greeth_flood       1.00      1.00      1.00      1502\n",
            "      Mirai-greip_flood       1.00      1.00      1.00      1143\n",
            "         Mirai-udpplain       1.00      1.00      1.00      1369\n",
            "    Recon-HostDiscovery       0.80      0.72      0.76       215\n",
            "           Recon-OSScan       0.74      0.50      0.59       165\n",
            "        Recon-PingSweep       1.00      1.00      1.00         1\n",
            "         Recon-PortScan       0.80      0.51      0.62       116\n",
            "           SqlInjection       0.88      0.54      0.67        13\n",
            "       Uploading_Attack       0.00      0.00      0.00         2\n",
            "      VulnerabilityScan       1.00      1.00      1.00        80\n",
            "                    XSS       0.33      0.14      0.20         7\n",
            "\n",
            "               accuracy                           0.99     71607\n",
            "              macro avg       0.86      0.81      0.83     71607\n",
            "           weighted avg       0.99      0.99      0.99     71607\n",
            "\n",
            "Confusion Matrix:\n",
            " [[   3    0    0 ...    0    0    0]\n",
            " [   0 1542    1 ...    0    0    0]\n",
            " [   0    4    2 ...    0    0    0]\n",
            " ...\n",
            " [   0    1    0 ...    0    0    1]\n",
            " [   0    0    0 ...    0   80    0]\n",
            " [   0    4    0 ...    0    0    1]]\n",
            "Cross-validation Accuracy: 0.9899994546680606\n"
          ]
        }
      ],
      "source": [
        "# Step 6: Train and Test Split\n",
        "from sklearn.metrics import precision_score, recall_score, f1_score, confusion_matrix\n",
        "X_train, X_test, y_train, y_test = train_test_split(X_selected, y, test_size=0.3, random_state=42)\n",
        "\n",
        "# Step 7: Train Random Forest Classifier\n",
        "rf_model = RandomForestClassifier(random_state=42)\n",
        "rf_model.fit(X_train, y_train)\n",
        "\n",
        "# Step 8: Evaluate the model\n",
        "y_pred = rf_model.predict(X_test)\n",
        "# Metrics\n",
        "accuracy = accuracy_score(y_test, y_pred)\n",
        "precision = precision_score(y_test, y_pred, average='weighted')  # Weighted for imbalanced classes\n",
        "recall = recall_score(y_test, y_pred, average='weighted')  # Weighted for imbalanced classes\n",
        "f1 = f1_score(y_test, y_pred, average='weighted')  # Weighted for imbalanced classes\n",
        "\n",
        "# Print metrics\n",
        "print(\"Accuracy:\", accuracy)\n",
        "print(\"Precision:\", precision)\n",
        "print(\"Recall:\", recall)\n",
        "print(\"F1 Score:\", f1)\n",
        "print(\"Classification Report:\\n\", classification_report(y_test, y_pred))\n",
        "\n",
        "# Confusion Matrix\n",
        "conf_matrix = confusion_matrix(y_test, y_pred)\n",
        "print(\"Confusion Matrix:\\n\", conf_matrix)\n",
        "\n",
        "# Step 9: Cross-validation (optional)\n",
        "cv_scores = cross_val_score(rf_model, X_selected, y, cv=5)\n",
        "print(\"Cross-validation Accuracy:\", np.mean(cv_scores))"
      ]
    },
    {
      "cell_type": "code",
      "execution_count": null,
      "metadata": {
        "id": "7kHvhiF9-lqE"
      },
      "outputs": [],
      "source": []
    }
  ],
  "metadata": {
    "colab": {
      "provenance": [],
      "include_colab_link": true
    },
    "kernelspec": {
      "display_name": "Python 3",
      "name": "python3"
    },
    "language_info": {
      "name": "python"
    }
  },
  "nbformat": 4,
  "nbformat_minor": 0
}