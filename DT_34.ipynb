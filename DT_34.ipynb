{
  "nbformat": 4,
  "nbformat_minor": 0,
  "metadata": {
    "colab": {
      "provenance": [],
      "include_colab_link": true
    },
    "kernelspec": {
      "name": "python3",
      "display_name": "Python 3"
    },
    "language_info": {
      "name": "python"
    }
  },
  "cells": [
    {
      "cell_type": "markdown",
      "metadata": {
        "id": "view-in-github",
        "colab_type": "text"
      },
      "source": [
        "<a href=\"https://colab.research.google.com/github/ushasri999/Multiclass-classification-of-DDoS-attacks-in-IoT-network-using-hybrid-feature-selection-algorithm/blob/main/DT_34.ipynb\" target=\"_parent\"><img src=\"https://colab.research.google.com/assets/colab-badge.svg\" alt=\"Open In Colab\"/></a>"
      ]
    },
    {
      "cell_type": "markdown",
      "source": [
        "**34 Classes, 15 features**"
      ],
      "metadata": {
        "id": "4_Zdg51qYRBl"
      }
    },
    {
      "cell_type": "code",
      "execution_count": null,
      "metadata": {
        "colab": {
          "base_uri": "https://localhost:8080/"
        },
        "id": "eKcz3Mh-X9MH",
        "outputId": "77bf91df-68d5-4685-9764-e1b31b34d7f1"
      },
      "outputs": [
        {
          "output_type": "stream",
          "name": "stdout",
          "text": [
            "(238687, 46)\n",
            "(238687,)\n"
          ]
        }
      ],
      "source": [
        "#5\n",
        "import pandas as pd\n",
        "import numpy as np\n",
        "from sklearn.tree import DecisionTreeClassifier\n",
        "from sklearn.model_selection import train_test_split, cross_val_score\n",
        "from sklearn.feature_selection import SelectKBest, f_classif, RFE\n",
        "from sklearn.metrics import classification_report, accuracy_score, confusion_matrix, precision_score, f1_score\n",
        "\n",
        "# Step 1: Load the filtered dataset\n",
        "df = pd.read_csv('/content/drive/MyDrive/major project/data.csv')  # Load your actual dataset here\n",
        "\n",
        "# Step 2: Separate features and target\n",
        "X = df.drop(\"label\", axis=1, errors='ignore')  # Avoid crashing if 'label' does not exist\n",
        "y = df[\"label\"] if 'label' in df.columns else pd.Series([])  # Handle case where label is missing\n",
        "\n",
        "# Check if X and y are valid\n",
        "print(X.shape)  # Should not be empty\n",
        "print(y.shape)  # Should not be empty\n",
        "\n",
        "# Step 3: Handle categorical and missing data\n",
        "X = pd.get_dummies(X, drop_first=True)  # One-hot encode categorical features\n",
        "X.fillna(X.mean(), inplace=True)  # Fill missing values with the mean\n"
      ]
    },
    {
      "cell_type": "code",
      "source": [
        "# Step 4: Hybrid Feature Selection\n",
        "filter_selector = SelectKBest(score_func=f_classif, k=8)  # Select only top 5 features using filter method\n",
        "X_new_filter = filter_selector.fit_transform(X, y)\n",
        "filter_scores = filter_selector.scores_\n",
        "\n",
        "# Wrapper Method: Recursive Feature Elimination (RFE) with Decision Tree\n",
        "rfe_selector = RFE(estimator=DecisionTreeClassifier(random_state=42), n_features_to_select=7)  # Select 5 features\n",
        "X_new_wrapper = rfe_selector.fit_transform(X, y)\n",
        "rfe_ranking = rfe_selector.ranking_\n",
        "\n",
        "# Combine results: Select top 5 features from both methods\n",
        "top_features_filter = np.argsort(filter_scores)[-8:]  # Top 5 features from filter method\n",
        "print('top_features_filter ', top_features_filter)\n",
        "top_features_rfe = np.where(rfe_ranking == 1)[0]  # Features selected by RFE\n",
        "print('top_features_rfe ', top_features_rfe)\n",
        "top_features_combined = list(set(top_features_filter) | set(top_features_rfe))  # Combine both selections\n",
        "print('top_features_combined ', top_features_combined)\n",
        "\n",
        "# Step 5: Select top features from the dataset\n",
        "X_selected = X.iloc[:, top_features_combined]\n",
        "\n",
        "# Print the names of the selected features\n",
        "print(\"Selected Features:\", X_selected.columns.tolist())"
      ],
      "metadata": {
        "colab": {
          "base_uri": "https://localhost:8080/"
        },
        "id": "ajoE0ThgYI46",
        "outputId": "4fab13b9-9784-48bd-9448-da35ec6f3a45"
      },
      "execution_count": null,
      "outputs": [
        {
          "output_type": "stream",
          "name": "stderr",
          "text": [
            "/usr/local/lib/python3.10/dist-packages/sklearn/feature_selection/_univariate_selection.py:112: UserWarning: Features [12 13 22 23 25 28] are constant.\n",
            "  warnings.warn(\"Features %s are constant.\" % constant_features_idx, UserWarning)\n",
            "/usr/local/lib/python3.10/dist-packages/sklearn/feature_selection/_univariate_selection.py:113: RuntimeWarning: invalid value encountered in divide\n",
            "  f = msb / msw\n"
          ]
        },
        {
          "output_type": "stream",
          "name": "stdout",
          "text": [
            "top_features_filter  [30  7 28 23 13 12 25 22]\n",
            "top_features_rfe  [ 7  8 10 33 34 39 41]\n",
            "top_features_combined  [33, 34, 7, 8, 39, 10, 41, 12, 13, 22, 23, 25, 28, 30]\n",
            "Selected Features: ['Tot sum', 'Min', 'fin_flag_number', 'syn_flag_number', 'IAT', 'psh_flag_number', 'Magnitue', 'ece_flag_number', 'cwr_flag_number', 'Telnet', 'SMTP', 'IRC', 'DHCP', 'ICMP']\n"
          ]
        }
      ]
    },
    {
      "cell_type": "code",
      "source": [
        "from sklearn.metrics import recall_score\n",
        "\n",
        "# Step 6: Train and Test Split\n",
        "X_train, X_test, y_train, y_test = train_test_split(X_selected, y, test_size=0.3, random_state=42)\n",
        "\n",
        "# Step 7: Train Decision Tree Classifier\n",
        "dt_model = DecisionTreeClassifier(random_state=42)\n",
        "dt_model.fit(X_train, y_train)\n",
        "\n",
        "# Step 8: Evaluate the model\n",
        "y_pred = dt_model.predict(X_test)\n",
        "accuracy = accuracy_score(y_test, y_pred)\n",
        "precision = precision_score(y_test, y_pred, average='weighted')  # Weighted for imbalanced classes\n",
        "recall = recall_score(y_test, y_pred, average='weighted')  # Weighted for imbalanced classes\n",
        "f1 = f1_score(y_test, y_pred, average='weighted')  # Weighted for imbalanced classes\n",
        "\n",
        "# Print metrics\n",
        "print(\"Accuracy:\", accuracy)\n",
        "print(\"Precision:\", precision)\n",
        "print(\"recall:\", recall)\n",
        "print(\"F1 Score:\", f1)\n",
        "print(\"Classification Report:\\n\", classification_report(y_test, y_pred))\n",
        "\n",
        "# Confusion Matrix\n",
        "conf_matrix = confusion_matrix(y_test, y_pred)\n",
        "print(\"Confusion Matrix:\\n\", conf_matrix)"
      ],
      "metadata": {
        "colab": {
          "base_uri": "https://localhost:8080/"
        },
        "id": "MBKkK4xcYMHM",
        "outputId": "e84b0f2b-d407-4d81-a1f5-b997876d74d2"
      },
      "execution_count": null,
      "outputs": [
        {
          "output_type": "stream",
          "name": "stdout",
          "text": [
            "Accuracy: 0.9892328962252294\n",
            "Precision: 0.9892627783105972\n",
            "recall: 0.9892328962252294\n",
            "F1 Score: 0.9892085122588348\n",
            "Classification Report:\n",
            "                          precision    recall  f1-score   support\n",
            "\n",
            "       Backdoor_Malware       0.43      0.75      0.55         4\n",
            "          BenignTraffic       0.84      0.83      0.84      1667\n",
            "       BrowserHijacking       0.33      0.25      0.29         8\n",
            "       CommandInjection       0.36      0.67      0.47         6\n",
            " DDoS-ACK_Fragmentation       0.99      0.99      0.99       463\n",
            "        DDoS-HTTP_Flood       1.00      0.98      0.99        52\n",
            "        DDoS-ICMP_Flood       1.00      1.00      1.00     11141\n",
            "DDoS-ICMP_Fragmentation       0.99      1.00      1.00       685\n",
            "      DDoS-PSHACK_Flood       1.00      1.00      1.00      6319\n",
            "       DDoS-RSTFINFlood       1.00      1.00      1.00      6238\n",
            "         DDoS-SYN_Flood       1.00      1.00      1.00      6261\n",
            "         DDoS-SlowLoris       0.89      1.00      0.94        40\n",
            "DDoS-SynonymousIP_Flood       1.00      1.00      1.00      5354\n",
            "         DDoS-TCP_Flood       1.00      1.00      1.00      6929\n",
            "         DDoS-UDP_Flood       1.00      1.00      1.00      8402\n",
            " DDoS-UDP_Fragmentation       0.99      0.99      0.99       450\n",
            "           DNS_Spoofing       0.60      0.56      0.58       267\n",
            "   DictionaryBruteForce       0.50      0.75      0.60        16\n",
            "         DoS-HTTP_Flood       0.99      1.00      1.00       116\n",
            "          DoS-SYN_Flood       1.00      1.00      1.00      3034\n",
            "          DoS-TCP_Flood       1.00      1.00      1.00      4069\n",
            "          DoS-UDP_Flood       1.00      1.00      1.00      4992\n",
            "       MITM-ArpSpoofing       0.68      0.73      0.71       481\n",
            "     Mirai-greeth_flood       1.00      1.00      1.00      1502\n",
            "      Mirai-greip_flood       1.00      1.00      1.00      1143\n",
            "         Mirai-udpplain       1.00      1.00      1.00      1369\n",
            "    Recon-HostDiscovery       0.75      0.71      0.73       215\n",
            "           Recon-OSScan       0.57      0.52      0.54       165\n",
            "        Recon-PingSweep       0.50      1.00      0.67         1\n",
            "         Recon-PortScan       0.55      0.55      0.55       116\n",
            "           SqlInjection       0.86      0.46      0.60        13\n",
            "       Uploading_Attack       0.33      0.50      0.40         2\n",
            "      VulnerabilityScan       1.00      0.99      0.99        80\n",
            "                    XSS       0.33      0.29      0.31         7\n",
            "\n",
            "               accuracy                           0.99     71607\n",
            "              macro avg       0.81      0.84      0.82     71607\n",
            "           weighted avg       0.99      0.99      0.99     71607\n",
            "\n",
            "Confusion Matrix:\n",
            " [[   3    0    0 ...    0    0    0]\n",
            " [   0 1391    1 ...    2    0    3]\n",
            " [   0    3    2 ...    0    0    0]\n",
            " ...\n",
            " [   0    0    0 ...    1    0    0]\n",
            " [   0    0    0 ...    0   79    0]\n",
            " [   0    2    0 ...    0    0    2]]\n"
          ]
        }
      ]
    },
    {
      "cell_type": "markdown",
      "source": [
        "**34 classes, 10 features**"
      ],
      "metadata": {
        "id": "e2Z0_GyJYYzi"
      }
    },
    {
      "cell_type": "code",
      "source": [
        "# Step 4: Hybrid Feature Selection\n",
        "filter_selector = SelectKBest(score_func=f_classif, k=5)  # Select only top 5 features using filter method\n",
        "X_new_filter = filter_selector.fit_transform(X, y)\n",
        "filter_scores = filter_selector.scores_\n",
        "\n",
        "# Wrapper Method: Recursive Feature Elimination (RFE) with Decision Tree\n",
        "rfe_selector = RFE(estimator=DecisionTreeClassifier(random_state=42), n_features_to_select=5)  # Select 5 features\n",
        "X_new_wrapper = rfe_selector.fit_transform(X, y)\n",
        "rfe_ranking = rfe_selector.ranking_\n",
        "\n",
        "# Combine results: Select top 5 features from both methods\n",
        "top_features_filter = np.argsort(filter_scores)[-5:]  # Top 5 features from filter method\n",
        "print('top_features_filter ', top_features_filter)\n",
        "top_features_rfe = np.where(rfe_ranking == 1)[0]  # Features selected by RFE\n",
        "print('top_features_rfe ', top_features_rfe)\n",
        "top_features_combined = list(set(top_features_filter) | set(top_features_rfe))  # Combine both selections\n",
        "print('top_features_combined ', top_features_combined)\n",
        "\n",
        "# Step 5: Select top features from the dataset\n",
        "X_selected = X.iloc[:, top_features_combined]\n",
        "\n",
        "# Print the names of the selected features\n",
        "print(\"Selected Features:\", X_selected.columns.tolist())"
      ],
      "metadata": {
        "colab": {
          "base_uri": "https://localhost:8080/"
        },
        "id": "F-0xGMLuYX-y",
        "outputId": "34fd0ff6-e6ce-4407-b53a-4ea009e278b3"
      },
      "execution_count": null,
      "outputs": [
        {
          "output_type": "stream",
          "name": "stderr",
          "text": [
            "/usr/local/lib/python3.10/dist-packages/sklearn/feature_selection/_univariate_selection.py:112: UserWarning: Features [12 13 22 23 25 28] are constant.\n",
            "  warnings.warn(\"Features %s are constant.\" % constant_features_idx, UserWarning)\n",
            "/usr/local/lib/python3.10/dist-packages/sklearn/feature_selection/_univariate_selection.py:113: RuntimeWarning: invalid value encountered in divide\n",
            "  f = msb / msw\n"
          ]
        },
        {
          "output_type": "stream",
          "name": "stdout",
          "text": [
            "top_features_filter  [23 13 12 25 22]\n",
            "top_features_rfe  [ 7 10 34 39 41]\n",
            "top_features_combined  [34, 39, 7, 41, 10, 12, 13, 22, 23, 25]\n",
            "Selected Features: ['Min', 'IAT', 'fin_flag_number', 'Magnitue', 'psh_flag_number', 'ece_flag_number', 'cwr_flag_number', 'Telnet', 'SMTP', 'IRC']\n"
          ]
        }
      ]
    },
    {
      "cell_type": "code",
      "source": [
        "from sklearn.metrics import recall_score\n",
        "\n",
        "# Step 6: Train and Test Split\n",
        "X_train, X_test, y_train, y_test = train_test_split(X_selected, y, test_size=0.3, random_state=42)\n",
        "\n",
        "# Step 7: Train Decision Tree Classifier\n",
        "dt_model = DecisionTreeClassifier(random_state=42)\n",
        "dt_model.fit(X_train, y_train)\n",
        "\n",
        "# Step 8: Evaluate the model\n",
        "y_pred = dt_model.predict(X_test)\n",
        "accuracy = accuracy_score(y_test, y_pred)\n",
        "precision = precision_score(y_test, y_pred, average='weighted')  # Weighted for imbalanced classes\n",
        "recall = recall_score(y_test, y_pred, average='weighted')  # Weighted for imbalanced classes\n",
        "f1 = f1_score(y_test, y_pred, average='weighted')  # Weighted for imbalanced classes\n",
        "\n",
        "# Print metrics\n",
        "print(\"Accuracy:\", accuracy)\n",
        "print(\"Precision:\", precision)\n",
        "print(\"recall:\", recall)\n",
        "print(\"F1 Score:\", f1)\n",
        "print(\"Classification Report:\\n\", classification_report(y_test, y_pred))\n",
        "\n",
        "# Confusion Matrix\n",
        "conf_matrix = confusion_matrix(y_test, y_pred)\n",
        "print(\"Confusion Matrix:\\n\", conf_matrix)"
      ],
      "metadata": {
        "colab": {
          "base_uri": "https://localhost:8080/"
        },
        "id": "W18t6zStYOkQ",
        "outputId": "cd36ba15-ea45-47f7-fa1e-3dc8a3c7379b"
      },
      "execution_count": null,
      "outputs": [
        {
          "output_type": "stream",
          "name": "stdout",
          "text": [
            "Accuracy: 0.989107210188948\n",
            "Precision: 0.9891948071444275\n",
            "recall: 0.989107210188948\n",
            "F1 Score: 0.9891117335490501\n",
            "Classification Report:\n",
            "                          precision    recall  f1-score   support\n",
            "\n",
            "       Backdoor_Malware       0.50      0.75      0.60         4\n",
            "          BenignTraffic       0.84      0.84      0.84      1667\n",
            "       BrowserHijacking       0.50      0.25      0.33         8\n",
            "       CommandInjection       0.31      0.67      0.42         6\n",
            " DDoS-ACK_Fragmentation       0.99      0.99      0.99       463\n",
            "        DDoS-HTTP_Flood       0.95      1.00      0.97        52\n",
            "        DDoS-ICMP_Flood       1.00      1.00      1.00     11141\n",
            "DDoS-ICMP_Fragmentation       0.99      1.00      1.00       685\n",
            "      DDoS-PSHACK_Flood       1.00      1.00      1.00      6319\n",
            "       DDoS-RSTFINFlood       1.00      1.00      1.00      6238\n",
            "         DDoS-SYN_Flood       1.00      1.00      1.00      6261\n",
            "         DDoS-SlowLoris       0.87      1.00      0.93        40\n",
            "DDoS-SynonymousIP_Flood       1.00      1.00      1.00      5354\n",
            "         DDoS-TCP_Flood       1.00      1.00      1.00      6929\n",
            "         DDoS-UDP_Flood       1.00      1.00      1.00      8402\n",
            " DDoS-UDP_Fragmentation       0.99      0.99      0.99       450\n",
            "           DNS_Spoofing       0.62      0.56      0.59       267\n",
            "   DictionaryBruteForce       0.50      0.75      0.60        16\n",
            "         DoS-HTTP_Flood       1.00      1.00      1.00       116\n",
            "          DoS-SYN_Flood       1.00      1.00      1.00      3034\n",
            "          DoS-TCP_Flood       1.00      1.00      1.00      4069\n",
            "          DoS-UDP_Flood       1.00      1.00      1.00      4992\n",
            "       MITM-ArpSpoofing       0.71      0.72      0.71       481\n",
            "     Mirai-greeth_flood       1.00      1.00      1.00      1502\n",
            "      Mirai-greip_flood       1.00      1.00      1.00      1143\n",
            "         Mirai-udpplain       1.00      1.00      1.00      1369\n",
            "    Recon-HostDiscovery       0.71      0.71      0.71       215\n",
            "           Recon-OSScan       0.49      0.55      0.52       165\n",
            "        Recon-PingSweep       0.50      1.00      0.67         1\n",
            "         Recon-PortScan       0.56      0.55      0.55       116\n",
            "           SqlInjection       0.75      0.46      0.57        13\n",
            "       Uploading_Attack       1.00      0.50      0.67         2\n",
            "      VulnerabilityScan       1.00      0.96      0.98        80\n",
            "                    XSS       0.29      0.29      0.29         7\n",
            "\n",
            "               accuracy                           0.99     71607\n",
            "              macro avg       0.83      0.84      0.82     71607\n",
            "           weighted avg       0.99      0.99      0.99     71607\n",
            "\n",
            "Confusion Matrix:\n",
            " [[   3    0    0 ...    0    0    0]\n",
            " [   1 1395    0 ...    0    0    3]\n",
            " [   0    3    2 ...    0    0    0]\n",
            " ...\n",
            " [   0    0    0 ...    1    0    0]\n",
            " [   0    0    0 ...    0   77    0]\n",
            " [   0    4    0 ...    0    0    2]]\n"
          ]
        }
      ]
    },
    {
      "cell_type": "markdown",
      "source": [
        "**34 classes, 5 features**"
      ],
      "metadata": {
        "id": "b9jYE-o_Yi20"
      }
    },
    {
      "cell_type": "code",
      "source": [
        "# Step 4: Hybrid Feature Selection\n",
        "filter_selector = SelectKBest(score_func=f_classif, k=3)  # Select only top 5 features using filter method\n",
        "X_new_filter = filter_selector.fit_transform(X, y)\n",
        "filter_scores = filter_selector.scores_\n",
        "\n",
        "# Wrapper Method: Recursive Feature Elimination (RFE) with Decision Tree\n",
        "rfe_selector = RFE(estimator=DecisionTreeClassifier(random_state=42), n_features_to_select=2)  # Select 5 features\n",
        "X_new_wrapper = rfe_selector.fit_transform(X, y)\n",
        "rfe_ranking = rfe_selector.ranking_\n",
        "\n",
        "# Combine results: Select top 5 features from both methods\n",
        "top_features_filter = np.argsort(filter_scores)[-3:]  # Top 5 features from filter method\n",
        "print('top_features_filter ', top_features_filter)\n",
        "top_features_rfe = np.where(rfe_ranking == 1)[0]  # Features selected by RFE\n",
        "print('top_features_rfe ', top_features_rfe)\n",
        "top_features_combined = list(set(top_features_filter) | set(top_features_rfe))  # Combine both selections\n",
        "print('top_features_combined ', top_features_combined)\n",
        "\n",
        "# Step 5: Select top features from the dataset\n",
        "X_selected = X.iloc[:, top_features_combined]\n",
        "\n",
        "# Print the names of the selected features\n",
        "print(\"Selected Features:\", X_selected.columns.tolist())"
      ],
      "metadata": {
        "colab": {
          "base_uri": "https://localhost:8080/"
        },
        "id": "tt9S88o5YiUm",
        "outputId": "de90c994-59ca-471f-e192-2edefbc5c0ed"
      },
      "execution_count": null,
      "outputs": [
        {
          "output_type": "stream",
          "name": "stderr",
          "text": [
            "/usr/local/lib/python3.10/dist-packages/sklearn/feature_selection/_univariate_selection.py:112: UserWarning: Features [12 13 22 23 25 28] are constant.\n",
            "  warnings.warn(\"Features %s are constant.\" % constant_features_idx, UserWarning)\n",
            "/usr/local/lib/python3.10/dist-packages/sklearn/feature_selection/_univariate_selection.py:113: RuntimeWarning: invalid value encountered in divide\n",
            "  f = msb / msw\n"
          ]
        },
        {
          "output_type": "stream",
          "name": "stdout",
          "text": [
            "top_features_filter  [12 25 22]\n",
            "top_features_rfe  [34 39]\n",
            "top_features_combined  [34, 22, 39, 25, 12]\n",
            "Selected Features: ['Min', 'Telnet', 'IAT', 'IRC', 'ece_flag_number']\n"
          ]
        }
      ]
    },
    {
      "cell_type": "code",
      "source": [
        "from sklearn.metrics import recall_score\n",
        "\n",
        "# Step 6: Train and Test Split\n",
        "X_train, X_test, y_train, y_test = train_test_split(X_selected, y, test_size=0.3, random_state=42)\n",
        "\n",
        "# Step 7: Train Decision Tree Classifier\n",
        "dt_model = DecisionTreeClassifier(random_state=42)\n",
        "dt_model.fit(X_train, y_train)\n",
        "\n",
        "# Step 8: Evaluate the model\n",
        "y_pred = dt_model.predict(X_test)\n",
        "accuracy = accuracy_score(y_test, y_pred)\n",
        "precision = precision_score(y_test, y_pred, average='weighted')  # Weighted for imbalanced classes\n",
        "recall = recall_score(y_test, y_pred, average='weighted')  # Weighted for imbalanced classes\n",
        "f1 = f1_score(y_test, y_pred, average='weighted')  # Weighted for imbalanced classes\n",
        "\n",
        "# Print metrics\n",
        "print(\"Accuracy:\", accuracy)\n",
        "print(\"Precision:\", precision)\n",
        "print(\"recall:\", recall)\n",
        "print(\"F1 Score:\", f1)\n",
        "print(\"Classification Report:\\n\", classification_report(y_test, y_pred))\n",
        "\n",
        "# Confusion Matrix\n",
        "conf_matrix = confusion_matrix(y_test, y_pred)\n",
        "print(\"Confusion Matrix:\\n\", conf_matrix)"
      ],
      "metadata": {
        "colab": {
          "base_uri": "https://localhost:8080/"
        },
        "id": "DEBCFMmpYoAP",
        "outputId": "c6028d67-8e48-40b5-f07e-084f30e2e7ad"
      },
      "execution_count": null,
      "outputs": [
        {
          "output_type": "stream",
          "name": "stdout",
          "text": [
            "Accuracy: 0.9882693032804055\n",
            "Precision: 0.9883172868389218\n",
            "recall: 0.9882693032804055\n",
            "F1 Score: 0.9882700994952314\n",
            "Classification Report:\n",
            "                          precision    recall  f1-score   support\n",
            "\n",
            "       Backdoor_Malware       0.75      0.75      0.75         4\n",
            "          BenignTraffic       0.83      0.83      0.83      1667\n",
            "       BrowserHijacking       0.30      0.38      0.33         8\n",
            "       CommandInjection       0.40      0.67      0.50         6\n",
            " DDoS-ACK_Fragmentation       1.00      0.98      0.99       463\n",
            "        DDoS-HTTP_Flood       1.00      1.00      1.00        52\n",
            "        DDoS-ICMP_Flood       1.00      1.00      1.00     11141\n",
            "DDoS-ICMP_Fragmentation       0.99      1.00      0.99       685\n",
            "      DDoS-PSHACK_Flood       1.00      1.00      1.00      6319\n",
            "       DDoS-RSTFINFlood       1.00      1.00      1.00      6238\n",
            "         DDoS-SYN_Flood       1.00      1.00      1.00      6261\n",
            "         DDoS-SlowLoris       1.00      1.00      1.00        40\n",
            "DDoS-SynonymousIP_Flood       1.00      1.00      1.00      5354\n",
            "         DDoS-TCP_Flood       1.00      1.00      1.00      6929\n",
            "         DDoS-UDP_Flood       1.00      1.00      1.00      8402\n",
            " DDoS-UDP_Fragmentation       1.00      0.99      0.99       450\n",
            "           DNS_Spoofing       0.58      0.59      0.59       267\n",
            "   DictionaryBruteForce       0.50      0.81      0.62        16\n",
            "         DoS-HTTP_Flood       0.99      0.98      0.99       116\n",
            "          DoS-SYN_Flood       1.00      1.00      1.00      3034\n",
            "          DoS-TCP_Flood       1.00      1.00      1.00      4069\n",
            "          DoS-UDP_Flood       1.00      1.00      1.00      4992\n",
            "       MITM-ArpSpoofing       0.67      0.68      0.67       481\n",
            "     Mirai-greeth_flood       1.00      1.00      1.00      1502\n",
            "      Mirai-greip_flood       1.00      1.00      1.00      1143\n",
            "         Mirai-udpplain       1.00      1.00      1.00      1369\n",
            "    Recon-HostDiscovery       0.67      0.65      0.66       215\n",
            "           Recon-OSScan       0.54      0.53      0.54       165\n",
            "        Recon-PingSweep       0.50      1.00      0.67         1\n",
            "         Recon-PortScan       0.55      0.51      0.53       116\n",
            "           SqlInjection       0.54      0.54      0.54        13\n",
            "       Uploading_Attack       0.50      0.50      0.50         2\n",
            "      VulnerabilityScan       0.99      1.00      0.99        80\n",
            "                    XSS       0.67      0.29      0.40         7\n",
            "\n",
            "               accuracy                           0.99     71607\n",
            "              macro avg       0.82      0.84      0.83     71607\n",
            "           weighted avg       0.99      0.99      0.99     71607\n",
            "\n",
            "Confusion Matrix:\n",
            " [[   3    0    0 ...    0    0    0]\n",
            " [   0 1377    2 ...    0    0    1]\n",
            " [   0    4    3 ...    0    0    0]\n",
            " ...\n",
            " [   0    1    0 ...    1    0    0]\n",
            " [   0    0    0 ...    0   80    0]\n",
            " [   0    2    0 ...    0    0    2]]\n"
          ]
        }
      ]
    },
    {
      "cell_type": "code",
      "source": [],
      "metadata": {
        "id": "K0g3DXrLYqON"
      },
      "execution_count": null,
      "outputs": []
    }
  ]
}